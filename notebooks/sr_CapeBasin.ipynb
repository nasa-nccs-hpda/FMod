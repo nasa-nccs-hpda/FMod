{
 "cells": [
  {
   "metadata": {},
   "cell_type": "markdown",
   "source": [
    "# Cape Basin Super Resolution\n",
    "\n",
    "A simple notebook to test assorted SR models operating on the Cape Basin dataset\n",
    "\n",
    "## Preparation"
   ]
  },
  {
   "metadata": {},
   "cell_type": "code",
   "outputs": [],
   "execution_count": 1,
   "source": [
    "%matplotlib ipympl\n",
    "import torch\n",
    "import xarray as xa\n",
    "import hydra, os\n",
    "from fmod.base.util.config import fmconfig, cfg, ConfigContext\n",
    "from fmod.controller.dual_trainer import ModelTrainer\n",
    "from fmod.base.io.loader import TSet\n",
    "from fmod.model.sres.manager import SRModels\n",
    "from fmod.base.plot.sres import SRPlot\n",
    "from fmod.data.batch import BatchDataset\n",
    "from fmod.base.source.loader import srRes\n",
    "os.environ[\"PYTORCH_CUDA_ALLOC_CONF\"]=\"expandable_segments:True\""
   ]
  },
  {
   "cell_type": "code",
   "execution_count": 2,
   "metadata": {},
   "outputs": [],
   "source": [
    "hydra.initialize(version_base=None, config_path=\"../config\")\n",
    "device = ConfigContext.set_device()\n",
    "\n",
    "task=\"sres\"\n",
    "model=\"dbpn\"\n",
    "dataset=\"LLC4320-v1\"\n",
    "scenario=\"s4\"\n",
    "fmconfig( task, model, dataset, scenario )"
   ]
  },
  {
   "attachments": {},
   "cell_type": "markdown",
   "metadata": {},
   "source": [
    "### Training data\n",
    "Prepare a Dataloader which computes results on the fly:"
   ]
  },
  {
   "metadata": {},
   "cell_type": "code",
   "outputs": [],
   "execution_count": 6,
   "source": [
    "model_manager: SRModels =  SRModels( device )\n",
    "trainer:   ModelTrainer = ModelTrainer( model_manager ) "
   ]
  },
  {
   "metadata": {},
   "cell_type": "code",
   "outputs": [],
   "execution_count": null,
   "source": "tile_index = (1,1)"
  },
  {
   "metadata": {},
   "cell_type": "markdown",
   "source": "## Train"
  },
  {
   "cell_type": "code",
   "execution_count": null,
   "metadata": {
    "collapsed": false
   },
   "outputs": [],
   "source": [
    "srplot = SRPlot( trainer, TSet.Train, fsize=6.0, tile_index = tile_index)\n",
    "srplot.plot()"
   ]
  },
  {
   "metadata": {},
   "cell_type": "markdown",
   "source": "## Validation"
  },
  {
   "metadata": {},
   "cell_type": "code",
   "outputs": [],
   "execution_count": null,
   "source": [
    "srplot = SRPlot( trainer, TSet.Validation, fsize=6.0, tile_index = tile_index)\n",
    "srplot.plot()"
   ]
  },
  {
   "metadata": {},
   "cell_type": "markdown",
   "source": "## Test"
  },
  {
   "metadata": {},
   "cell_type": "code",
   "outputs": [],
   "execution_count": null,
   "source": [
    "srplot = SRPlot( trainer, TSet.Test, fsize=6.0, tile_index = tile_index)\n",
    "srplot.plot()"
   ]
  }
 ],
 "metadata": {
  "kernelspec": {
   "display_name": "Python 3 (ipykernel)",
   "language": "python",
   "name": "python3"
  },
  "language_info": {
   "codemirror_mode": {
    "name": "ipython",
    "version": 3
   },
   "file_extension": ".py",
   "mimetype": "text/x-python",
   "name": "python",
   "nbconvert_exporter": "python",
   "pygments_lexer": "ipython3",
   "version": "3.10.12"
  },
  "orig_nbformat": 4,
  "vscode": {
   "interpreter": {
    "hash": "31f2aee4e71d21fbe5cf8b01ff0e069b9275f58929596ceb00d14d90e3e16cd6"
   }
  }
 },
 "nbformat": 4,
 "nbformat_minor": 2
}
