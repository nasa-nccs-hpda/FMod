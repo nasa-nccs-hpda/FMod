{
 "cells": [
  {
   "attachments": {},
   "cell_type": "markdown",
   "metadata": {},
   "source": [
    "# Cape Basin Super Resolution\n",
    "\n",
    "A simple notebook to test assorted SR models operating on the Cape Basin dataset\n",
    "\n",
    "## Preparation"
   ]
  },
  {
   "cell_type": "code",
   "execution_count": 1,
   "metadata": {},
   "outputs": [],
   "source": [
    "%matplotlib ipympl\n",
    "import torch\n",
    "import xarray as xa\n",
    "import hydra, os\n",
    "from fmod.base.util.config import fmconfig, cfg\n",
    "from controller.dual_trainer import ModelTrainer\n",
    "from fmod.base.io.loader import TSet\n",
    "from fmod.model.sres.manager import SRModels\n",
    "from fmod.base.plot.sres import SRPlot\n",
    "from fmod.data.batch import BatchDataset\n",
    "from fmod.base.source.loader import srRes\n",
    "os.environ[\"PYTORCH_CUDA_ALLOC_CONF\"]=\"expandable_segments:True\""
   ]
  },
  {
   "cell_type": "code",
   "execution_count": 2,
   "metadata": {},
   "outputs": [],
   "source": [
    "hydra.initialize(version_base=None, config_path=\"../config\")\n",
    "\n",
    "task=\"sres\"\n",
    "model=\"mscnn\"\n",
    "dataset=\"LLC4320-v0\"\n",
    "scenario=\"s4.1\"\n",
    "fmconfig( task, model, dataset, scenario )\n",
    "# lgm().set_level( logging.DEBUG )\n",
    "\n",
    "load_state  = \"current\"\n",
    "save_state  = True \n",
    "cfg().task.nepochs = 1\n",
    "cfg().task.nbatches = 2\n",
    "\n",
    "device = torch.device('cuda:0' if torch.cuda.is_available() else 'cpu')\n",
    "if torch.cuda.is_available():\n",
    "    torch.cuda.set_device(device.index)\n",
    "    \n",
    "print( cfg().model.name )"
   ]
  },
  {
   "attachments": {},
   "cell_type": "markdown",
   "metadata": {},
   "source": [
    "### Training data\n",
    "Prepare a Dataloader which computes results on the fly:"
   ]
  },
  {
   "cell_type": "code",
   "execution_count": null,
   "metadata": {},
   "outputs": [],
   "source": [
    "input_dataset:  BatchDataset  = BatchDataset( cfg().task, vres=srRes.Low,  tset=TSet.Train )\n",
    "target_dataset: BatchDataset  = BatchDataset( cfg().task, vres=srRes.High, tset=TSet.Train  )"
   ]
  },
  {
   "metadata": {},
   "cell_type": "code",
   "outputs": [],
   "execution_count": 6,
   "source": [
    "model_manager: SRModels = SRModels( input_dataset, target_dataset, device )\n",
    "trainer:   ModelTrainer = ModelTrainer( model_manager ) \n",
    "sample_input:  xa.DataArray = model_manager.get_sample_input() \n",
    "sample_target: xa.DataArray = model_manager.get_sample_target()"
   ]
  },
  {
   "attachments": {},
   "cell_type": "markdown",
   "metadata": {},
   "source": [
    "## Training the model"
   ]
  },
  {
   "cell_type": "code",
   "outputs": [],
   "source": "trainer.train( load_state=load_state, save_state=save_state )",
   "metadata": {},
   "execution_count": null
  },
  {
   "cell_type": "code",
   "execution_count": null,
   "metadata": {
    "collapsed": false
   },
   "outputs": [],
   "source": [
    "srplot = SRPlot( trainer, TSet.Train, fsize=6.0)\n",
    "srplot.plot()"
   ]
  },
  {
   "metadata": {},
   "cell_type": "markdown",
   "source": "## Validating the Model"
  },
  {
   "metadata": {},
   "cell_type": "code",
   "outputs": [],
   "execution_count": null,
   "source": [
    "srplot = SRPlot( trainer, TSet.Validation, fsize=6.0)\n",
    "srplot.plot()"
   ]
  }
 ],
 "metadata": {
  "kernelspec": {
   "display_name": "Python 3 (ipykernel)",
   "language": "python",
   "name": "python3"
  },
  "language_info": {
   "codemirror_mode": {
    "name": "ipython",
    "version": 3
   },
   "file_extension": ".py",
   "mimetype": "text/x-python",
   "name": "python",
   "nbconvert_exporter": "python",
   "pygments_lexer": "ipython3",
   "version": "3.10.12"
  },
  "orig_nbformat": 4,
  "vscode": {
   "interpreter": {
    "hash": "31f2aee4e71d21fbe5cf8b01ff0e069b9275f58929596ceb00d14d90e3e16cd6"
   }
  }
 },
 "nbformat": 4,
 "nbformat_minor": 2
}
