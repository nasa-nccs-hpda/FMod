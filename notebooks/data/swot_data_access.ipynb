{
 "cells": [
  {
   "cell_type": "code",
   "execution_count": 1,
   "id": "ceb158907f7c9c8e",
   "metadata": {},
   "outputs": [
    {
     "ename": "PermissionError",
     "evalue": "[Errno 13] Permission denied: '/explore/nobackup/projects/ilab/data/swot/super_resolution/meta/hFacC_k0.data'",
     "output_type": "error",
     "traceback": [
      "\u001b[0;31m---------------------------------------------------------------------------\u001b[0m",
      "\u001b[0;31mPermissionError\u001b[0m                           Traceback (most recent call last)",
      "Cell \u001b[0;32mIn[1], line 7\u001b[0m\n\u001b[1;32m      4\u001b[0m varname \u001b[38;5;241m=\u001b[39m \u001b[38;5;124m\"\u001b[39m\u001b[38;5;124mSST\u001b[39m\u001b[38;5;124m\"\u001b[39m\n\u001b[1;32m      5\u001b[0m root_dir \u001b[38;5;241m=\u001b[39m \u001b[38;5;124mf\u001b[39m\u001b[38;5;124m\"\u001b[39m\u001b[38;5;124m/explore/nobackup/projects/ilab/data/swot/super_resolution\u001b[39m\u001b[38;5;124m\"\u001b[39m\n\u001b[0;32m----> 7\u001b[0m var_template: np\u001b[38;5;241m.\u001b[39mndarray \u001b[38;5;241m=\u001b[39m\u001b[43mnp\u001b[49m\u001b[38;5;241;43m.\u001b[39;49m\u001b[43mfromfile\u001b[49m\u001b[43m(\u001b[49m\u001b[43m \u001b[49m\u001b[38;5;124;43mf\u001b[39;49m\u001b[38;5;124;43m'\u001b[39;49m\u001b[38;5;132;43;01m{\u001b[39;49;00m\u001b[43mroot_dir\u001b[49m\u001b[38;5;132;43;01m}\u001b[39;49;00m\u001b[38;5;124;43m/meta/hFacC_k0.data\u001b[39;49m\u001b[38;5;124;43m'\u001b[39;49m\u001b[43m,\u001b[49m\u001b[38;5;124;43m'\u001b[39;49m\u001b[38;5;124;43m>f4\u001b[39;49m\u001b[38;5;124;43m'\u001b[39;49m\u001b[43m)\u001b[49m\n\u001b[1;32m      8\u001b[0m var_data: np\u001b[38;5;241m.\u001b[39mndarray \u001b[38;5;241m=\u001b[39mnp\u001b[38;5;241m.\u001b[39mfromfile( \u001b[38;5;124mf\u001b[39m\u001b[38;5;124m'\u001b[39m\u001b[38;5;132;01m{\u001b[39;00mroot_dir\u001b[38;5;132;01m}\u001b[39;00m\u001b[38;5;124m/raw/\u001b[39m\u001b[38;5;132;01m{\u001b[39;00mvarname\u001b[38;5;132;01m}\u001b[39;00m\u001b[38;5;124m/\u001b[39m\u001b[38;5;132;01m{\u001b[39;00mvarname\u001b[38;5;132;01m}\u001b[39;00m\u001b[38;5;124m.0001400112.shrunk\u001b[39m\u001b[38;5;124m'\u001b[39m,\u001b[38;5;124m'\u001b[39m\u001b[38;5;124m>f4\u001b[39m\u001b[38;5;124m'\u001b[39m)\n\u001b[1;32m      9\u001b[0m mask \u001b[38;5;241m=\u001b[39m var_template\u001b[38;5;241m==\u001b[39m\u001b[38;5;241m0\u001b[39m\n",
      "\u001b[0;31mPermissionError\u001b[0m: [Errno 13] Permission denied: '/explore/nobackup/projects/ilab/data/swot/super_resolution/meta/hFacC_k0.data'"
     ]
    }
   ],
   "source": [
    "import numpy as np\n",
    "import matplotlib.pyplot as plt\n",
    "import utils \n",
    "varname = \"SST\"\n",
    "root_dir = f\"/explore/nobackup/projects/ilab/data/swot/super_resolution\"\n",
    "\n",
    "var_template: np.ndarray =np.fromfile( f'{root_dir}/meta/hFacC_k0.data','>f4')\n",
    "var_data: np.ndarray =np.fromfile( f'{root_dir}/raw/{varname}/{varname}.0001400112.shrunk','>f4')\n",
    "mask = var_template==0\n",
    "var_template[~mask] = var_data\n",
    "var_template[mask] = np.nan\n",
    "\n",
    "sss_east, sss_west = utils.mds2d(var_template)\n",
    "print( sss_east.shape, sss_west.shape )"
   ]
  },
  {
   "cell_type": "code",
   "execution_count": null,
   "id": "1cbb942537cd09e6",
   "metadata": {},
   "outputs": [],
   "source": [
    "#show an example\n",
    "fig,ax=plt.subplots(1,2,figsize=(10,4))\n",
    "ax[0].pcolormesh(sss_east[::48,::48]) #skip every 48 points to speed up the image rendering\n",
    "ax[0].set_title('MITgcm llc tiles 1-6')\n",
    "#ax[0].invert_yaxis() \n",
    "ax[1].pcolormesh(sss_west[::48,::48]) #skip every 48 points to speed up the image rendering\n",
    "ax[1].set_title('MITgcm llc tiles 8-13')\n",
    "sss_full=np.c_[sss_east,sss_west.T[::-1,:]] #piece the two together\n",
    "\n",
    "plt.figure()\n",
    "plt.imshow(sss_full[::48,::48][::-1,:])\n",
    "plt.title('tiles 1-6 + 8-13')"
   ]
  }
 ],
 "metadata": {
  "kernelspec": {
   "display_name": "Python [conda env:.conda-DEV_kernel]",
   "language": "python",
   "name": "conda-env-.conda-DEV_kernel-py"
  },
  "language_info": {
   "codemirror_mode": {
    "name": "ipython",
    "version": 3
   },
   "file_extension": ".py",
   "mimetype": "text/x-python",
   "name": "python",
   "nbconvert_exporter": "python",
   "pygments_lexer": "ipython3",
   "version": "3.11.9"
  }
 },
 "nbformat": 4,
 "nbformat_minor": 5
}
