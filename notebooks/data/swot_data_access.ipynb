{
 "cells": [
  {
   "cell_type": "code",
   "execution_count": null,
   "id": "initial_id",
   "metadata": {
    "collapsed": true
   },
   "outputs": [],
   "source": [
    "import earthaccess\n",
    "import pylab as plt \n",
    "import xarray as xr\n",
    "import requests"
   ]
  },
  {
   "metadata": {},
   "cell_type": "code",
   "outputs": [],
   "execution_count": null,
   "source": [
    "import numpy as np\n",
    "import utils \n",
    "varanme = \"SST\"\n",
    "root_dir = f\"/explore/nobackup/projects/ilab/data/swot/super_resolution\"\n",
    "\n",
    "var_template: np.ndarray =np.fromfile( f'{root_dir}/hFacC_k0.data','>f4')\n",
    "var_data: np.ndarray =np.fromfile( f'{root_dir}/{varname}/{varname}.0001400112.shrunk','>f4')\n",
    "mask = var_template==0\n",
    "var_template[~mask] = var_data\n",
    "var_template[mask] = np.nan\n",
    "\n",
    "sss_east, sss_west = utils.mds2d(var_template)\n",
    "print( sss_east.shape, sss_west.shape )"
   ],
   "id": "1cbb942537cd09e6"
  }
 ],
 "metadata": {
  "kernelspec": {
   "display_name": "Python 3",
   "language": "python",
   "name": "python3"
  },
  "language_info": {
   "codemirror_mode": {
    "name": "ipython",
    "version": 2
   },
   "file_extension": ".py",
   "mimetype": "text/x-python",
   "name": "python",
   "nbconvert_exporter": "python",
   "pygments_lexer": "ipython2",
   "version": "2.7.6"
  }
 },
 "nbformat": 4,
 "nbformat_minor": 5
}
