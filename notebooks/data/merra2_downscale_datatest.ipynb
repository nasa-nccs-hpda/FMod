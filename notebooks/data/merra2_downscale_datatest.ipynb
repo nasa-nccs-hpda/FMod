{
 "cells": [
  {
   "attachments": {},
   "cell_type": "markdown",
   "metadata": {},
   "source": [
    "# Spherical Fourier Neural Operators\n",
    "\n",
    "A simple notebook to showcase spherical Fourier Neural Operators operating on MERRA2 data\n"
   ]
  },
  {
   "attachments": {},
   "cell_type": "markdown",
   "metadata": {},
   "source": [
    "## Preparation"
   ]
  },
  {
   "cell_type": "code",
   "execution_count": 1,
   "metadata": {},
   "source": [
    "%matplotlib ipympl\n",
    "import torch, logging\n",
    "import hydra, os, time\n",
    "from typing import Any, Dict, List, Tuple, Type, Optional, Union, Sequence, Mapping\n",
    "from fmod.base.util.dates import date_list\n",
    "from fmod.base.util.config import cfg, start_date,  cfg2args, pp\n",
    "from fmod.pipeline.merra2 import MERRA2Dataset\n",
    "import torch, math\n",
    "from fmod.base.util.config import cfg, cfg_date\n",
    "from torch.utils.data import DataLoader\n",
    "from fmod.base.util.grid import GridOps\n",
    "from fmod.base.util.logging import lgm, exception_handled, log_timing\n",
    "import torch.nn as nn\n"
   ],
   "outputs": []
  },
  {
   "cell_type": "code",
   "execution_count": 2,
   "metadata": {},
   "source": [
    "hydra.initialize(version_base=None, config_path=\"../config\")\n",
    "configure('merra2-sr')\n",
    "lgm().set_level( logging.DEBUG )\n",
    "loader_args = { k: cfg().model.get(k) for k in ['batch_size', 'num_workers', 'persistent_workers' ] }\n",
    "\n",
    "# set device\n",
    "device = torch.device('cuda:0' if torch.cuda.is_available() else 'cpu')\n",
    "if torch.cuda.is_available():\n",
    "    torch.cuda.set_device(device.index)"
   ],
   "outputs": []
  },
  {
   "attachments": {},
   "cell_type": "markdown",
   "metadata": {},
   "source": [
    "### Training data\n",
    "to train our geometric FNOs, we require training data. To this end let us prepare a Dataloader which computes results on the fly:"
   ]
  },
  {
   "cell_type": "code",
   "execution_count": 6,
   "metadata": {},
   "source": [
    "dataset = MERRA2Dataset( train_dates=date_list( start_date( cfg().task ), cfg().task.max_steps ), vres=\"low\" )\n",
    "inp, tar = next(iter(dataset))\n",
    "grid_shape = inp.shape[-2:]\n",
    "lmax = grid_shape[0]\n",
    "\n",
    "print(f\"LOWRES SHAPES= {inp.shape}, {tar.shape}, (nlat, nlon)={grid_shape}, lmax={lmax}\")"
   ],
   "outputs": []
  },
  {
   "cell_type": "code",
   "source": [
    "dataset = MERRA2Dataset( train_dates=date_list( start_date( cfg().task ), cfg().task.max_steps ), vres=\"high\" )\n",
    "inp, tar = next(iter(dataset))\n",
    "grid_shape = inp.shape[-2:]\n",
    "lmax = math.ceil(grid_shape[0] / 3)\n",
    "\n",
    "print(f\"HRES SHAPES= {inp.shape}, {tar.shape}, (nlat, nlon)={grid_shape}, lmax={lmax}\")"
   ],
   "metadata": {
    "collapsed": false
   },
   "execution_count": null,
   "outputs": []
  }
 ],
 "metadata": {
  "kernelspec": {
   "display_name": "Python 3 (ipykernel)",
   "language": "python",
   "name": "python3"
  },
  "language_info": {
   "codemirror_mode": {
    "name": "ipython",
    "version": 3
   },
   "file_extension": ".py",
   "mimetype": "text/x-python",
   "name": "python",
   "nbconvert_exporter": "python",
   "pygments_lexer": "ipython3",
   "version": "3.10.12"
  },
  "orig_nbformat": 4,
  "vscode": {
   "interpreter": {
    "hash": "31f2aee4e71d21fbe5cf8b01ff0e069b9275f58929596ceb00d14d90e3e16cd6"
   }
  }
 },
 "nbformat": 4,
 "nbformat_minor": 2
}
