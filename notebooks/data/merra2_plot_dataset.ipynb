{
 "cells": [
  {
   "cell_type": "code",
   "execution_count": null,
   "id": "6cc19910a1b76d18",
   "metadata": {
    "collapsed": false
   },
   "outputs": [],
   "source": [
    "%matplotlib ipympl\n",
    "from fmod.plot.multiscale import mplplot\n",
    "import xarray as xa\n",
    "import hydra, dataclasses\n",
    "import logging, torch\n",
    "from typing import List, Union, Tuple, Optional, Dict, Type\n",
    "from fmod.base.util.logging import lgm, exception_handled, log_timing\n",
    "from fmod.base.util.dates import date_list\n",
    "from fmod.base.util.config import cfg, start_date,  cfg2args, pp\n",
    "from fmod.pipeline.merra2 import MERRA2Dataset\n",
    "from fmod.base.util.ops import pctnan\n",
    "\n",
    "hydra.initialize(version_base=None, config_path=\"../config\")\n",
    "configure('merra2-sr')\n",
    "cfg().task.device = \"cpu\"\n",
    "lgm().set_level( logging.DEBUG )"
   ]
  },
  {
   "cell_type": "code",
   "execution_count": null,
   "outputs": [],
   "source": [
    "dataset = MERRA2Dataset( train_dates=date_list( start_date( cfg().task ), cfg().task.max_steps ), vres=\"high\" )\n",
    "data_iter = iter(dataset)\n",
    "\n",
    "inps, tars = [], []\n",
    "for inp, tar in data_iter:\n",
    "\tprint(f\" ------------ Timestep {len(inps)} -------------\")\n",
    "\tprint(\"   ** input:   {:35s} {:25s} {}\".format( str(inp.dims),str(inp.shape), pctnan(inp.values) ) )\n",
    "\tprint(\"   ** target:  {:35s} {:25s} {}\".format( str(tar.dims),str(tar.shape), pctnan(tar.values) ) )\n",
    "\tinps.append( inp )\n",
    "\ttars.append( tar )\n",
    "\tif len(inps) == 3: break\n",
    "\n",
    "plot_data = dict( inp=xa.concat(inps,'time'), tar=xa.concat(tars,'time') ) \t\n",
    "mplplot( plot_data )\n"
   ],
   "metadata": {
    "collapsed": false
   },
   "id": "b1412f3f7cbcfa0d"
  },
  {
   "cell_type": "code",
   "execution_count": null,
   "outputs": [],
   "source": [
    "\n"
   ],
   "metadata": {
    "collapsed": true
   },
   "id": "initial_id"
  }
 ],
 "metadata": {
  "kernelspec": {
   "display_name": "Python 3",
   "language": "python",
   "name": "python3"
  },
  "language_info": {
   "codemirror_mode": {
    "name": "ipython",
    "version": 2
   },
   "file_extension": ".py",
   "mimetype": "text/x-python",
   "name": "python",
   "nbconvert_exporter": "python",
   "pygments_lexer": "ipython2",
   "version": "2.7.6"
  }
 },
 "nbformat": 4,
 "nbformat_minor": 5
}
