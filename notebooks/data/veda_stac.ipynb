{
 "cells": [
  {
   "metadata": {},
   "cell_type": "code",
   "outputs": [],
   "execution_count": null,
   "source": [
    "from pystac_client import Client\n",
    "\n",
    "STAC_API_URL = \"https://hub.openveda.cloud\"\n",
    "catalog = Client.open(STAC_API_URL)"
   ],
   "id": "a314bb48c372c723"
  },
  {
   "metadata": {},
   "cell_type": "code",
   "outputs": [],
   "execution_count": null,
   "source": [
    "collections = list(catalog.get_collections())\n",
    "for collection in sorted(collections, key=lambda x: x.title):\n",
    "    print(collection.title)"
   ],
   "id": "27d5431135967075"
  }
 ],
 "metadata": {
  "kernelspec": {
   "display_name": "Python 3",
   "language": "python",
   "name": "python3"
  },
  "language_info": {
   "codemirror_mode": {
    "name": "ipython",
    "version": 2
   },
   "file_extension": ".py",
   "mimetype": "text/x-python",
   "name": "python",
   "nbconvert_exporter": "python",
   "pygments_lexer": "ipython2",
   "version": "2.7.6"
  }
 },
 "nbformat": 4,
 "nbformat_minor": 5
}
