{
 "cells": [
  {
   "cell_type": "code",
   "execution_count": 1,
   "id": "ceb158907f7c9c8e",
   "metadata": {},
   "outputs": [
    {
     "ename": "ModuleNotFoundError",
     "evalue": "No module named 'fmod'",
     "output_type": "error",
     "traceback": [
      "\u001b[0;31m---------------------------------------------------------------------------\u001b[0m",
      "\u001b[0;31mModuleNotFoundError\u001b[0m                       Traceback (most recent call last)",
      "Cell \u001b[0;32mIn[1], line 3\u001b[0m\n\u001b[1;32m      1\u001b[0m get_ipython()\u001b[38;5;241m.\u001b[39mrun_line_magic(\u001b[38;5;124m'\u001b[39m\u001b[38;5;124mmatplotlib\u001b[39m\u001b[38;5;124m'\u001b[39m, \u001b[38;5;124m'\u001b[39m\u001b[38;5;124mipympl\u001b[39m\u001b[38;5;124m'\u001b[39m)\n\u001b[1;32m      2\u001b[0m \u001b[38;5;28;01mimport\u001b[39;00m \u001b[38;5;21;01mnumpy\u001b[39;00m \u001b[38;5;28;01mas\u001b[39;00m \u001b[38;5;21;01mnp\u001b[39;00m\u001b[38;5;241m,\u001b[39m \u001b[38;5;21;01mxarray\u001b[39;00m \u001b[38;5;28;01mas\u001b[39;00m \u001b[38;5;21;01mxa\u001b[39;00m\n\u001b[0;32m----> 3\u001b[0m \u001b[38;5;28;01mfrom\u001b[39;00m \u001b[38;5;21;01mfmod\u001b[39;00m\u001b[38;5;21;01m.\u001b[39;00m\u001b[38;5;21;01mbase\u001b[39;00m\u001b[38;5;21;01m.\u001b[39;00m\u001b[38;5;21;01mutil\u001b[39;00m\u001b[38;5;21;01m.\u001b[39;00m\u001b[38;5;21;01mconfig\u001b[39;00m \u001b[38;5;28;01mimport\u001b[39;00m ConfigContext, cfg\n\u001b[1;32m      4\u001b[0m \u001b[38;5;28;01mimport\u001b[39;00m \u001b[38;5;21;01mmatplotlib\u001b[39;00m\u001b[38;5;21;01m.\u001b[39;00m\u001b[38;5;21;01mpyplot\u001b[39;00m \u001b[38;5;28;01mas\u001b[39;00m \u001b[38;5;21;01mplt\u001b[39;00m\n\u001b[1;32m      5\u001b[0m \u001b[38;5;28;01mfrom\u001b[39;00m \u001b[38;5;21;01mfmod\u001b[39;00m\u001b[38;5;21;01m.\u001b[39;00m\u001b[38;5;21;01mbase\u001b[39;00m\u001b[38;5;21;01m.\u001b[39;00m\u001b[38;5;21;01msource\u001b[39;00m\u001b[38;5;21;01m.\u001b[39;00m\u001b[38;5;21;01mloader\u001b[39;00m\u001b[38;5;21;01m.\u001b[39;00m\u001b[38;5;21;01mraw\u001b[39;00m \u001b[38;5;28;01mimport\u001b[39;00m SRRawDataLoader\n",
      "\u001b[0;31mModuleNotFoundError\u001b[0m: No module named 'fmod'"
     ]
    }
   ],
   "source": [
    "%matplotlib ipympl\n",
    "import numpy as np, xarray as xa\n",
    "from fmod.base.util.config import ConfigContext, cfg\n",
    "import matplotlib.pyplot as plt\n",
    "from fmod.base.source.loader.raw import SRRawDataLoader\n",
    "\n",
    "cname = \"sres\"\n",
    "model = \"rcan\"\n",
    "platform = \"explore\"\n",
    "task = \"swot_1x1\"\n",
    "dataset = \"swot\"\n",
    "file_index  =  1425024\n",
    "varname=\"SST\"\n",
    "\n",
    "ConfigContext.set_defaults( platform=platform, task=task, dataset=dataset )\n",
    "ConfigContext.activate_global( cname, model=model )"
   ]
  },
  {
   "cell_type": "code",
   "execution_count": 2,
   "id": "558ac6702fabca27",
   "metadata": {},
   "outputs": [
    {
     "ename": "NameError",
     "evalue": "name 'SRRawDataLoader' is not defined",
     "output_type": "error",
     "traceback": [
      "\u001b[0;31m---------------------------------------------------------------------------\u001b[0m",
      "\u001b[0;31mNameError\u001b[0m                                 Traceback (most recent call last)",
      "Cell \u001b[0;32mIn[2], line 1\u001b[0m\n\u001b[0;32m----> 1\u001b[0m loader: SRRawDataLoader \u001b[38;5;241m=\u001b[39m \u001b[43mSRRawDataLoader\u001b[49m\u001b[38;5;241m.\u001b[39mget_loader( cfg()\u001b[38;5;241m.\u001b[39mtask )\n\u001b[1;32m      2\u001b[0m data: xa\u001b[38;5;241m.\u001b[39mDataArray \u001b[38;5;241m=\u001b[39m loader\u001b[38;5;241m.\u001b[39mload_file( varname\u001b[38;5;241m=\u001b[39mvarname, index\u001b[38;5;241m=\u001b[39mfile_index )\n",
      "\u001b[0;31mNameError\u001b[0m: name 'SRRawDataLoader' is not defined"
     ]
    }
   ],
   "source": [
    "loader: SRRawDataLoader = SRRawDataLoader.get_loader( cfg().task )\n",
    "data: xa.DataArray = loader.load_file( varname=varname, index=file_index )"
   ]
  },
  {
   "cell_type": "code",
   "execution_count": null,
   "id": "1cbb942537cd09e6",
   "metadata": {},
   "outputs": [],
   "source": [
    "fig, ax = plt.subplots(1, 1, figsize=[ 12, 8 ], layout=\"tight\")\n",
    "data[0].plot.imshow(ax=ax, x=\"x\", y=\"y\", cmap='jet', yincrease=True, vmin=0.0, vmax=30.0)\n",
    "plt.title(f'{varname}[{file_index}]: tiles 1-6 + 8-13')"
   ]
  }
 ],
 "metadata": {
  "kernelspec": {
   "display_name": "Python [conda env:.conda-DEV_kernel]",
   "language": "python",
   "name": "conda-env-.conda-DEV_kernel-py"
  },
  "language_info": {
   "codemirror_mode": {
    "name": "ipython",
    "version": 3
   },
   "file_extension": ".py",
   "mimetype": "text/x-python",
   "name": "python",
   "nbconvert_exporter": "python",
   "pygments_lexer": "ipython3",
   "version": "3.11.9"
  }
 },
 "nbformat": 4,
 "nbformat_minor": 5
}
