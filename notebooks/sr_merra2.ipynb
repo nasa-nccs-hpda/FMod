{
 "cells": [
  {
   "cell_type": "markdown",
   "metadata": {},
   "source": [
    "# MERRA2 Super Resolution\n",
    "\n",
    "A simple notebook to test assorted SR models operating on MERRA2 data\n",
    "\n",
    "## Preparation"
   ]
  },
  {
   "cell_type": "code",
   "execution_count": 1,
   "metadata": {},
   "outputs": [],
   "source": [
    "%matplotlib ipympl\n",
    "import logging, torch, math\n",
    "from fmod.base.util.logging import lgm, exception_handled, log_timing\n",
    "from fmod.models.sres.util import *\n",
    "import torch.nn as nn\n",
    "import xarray as xa\n",
    "import hydra, os, time\n",
    "from typing import Any, Dict, List, Tuple, Type, Optional, Union, Sequence, Mapping, Callable\n",
    "from fmod.plot.sres import mplplot, create_plot_data\n",
    "from fmod.base.util.config import fmconfig, cfg\n",
    "from fmod.pipeline.dual_trainer import ModelTrainer\n",
    "from fmod.base.io.loader import BaseDataset\n",
    "from fmod.models.sres.manager import SRModels\n",
    "from fmod.pipeline.data import Datasets"
   ]
  },
  {
   "cell_type": "code",
   "execution_count": 2,
   "metadata": {},
   "outputs": [
    {
     "name": "stdout",
     "output_type": "stream",
     "text": [
      " *** Configuration sres-mscnn-merra2-s1 initialized *** \n",
      "\n",
      "  --------- Opening log file:  '/explore/nobackup/projects/ilab/data/FMF/cache/logs/sres-mscnn-merra2-s1.log' ---------  \n",
      "\n",
      "mscnn\n"
     ]
    }
   ],
   "source": [
    "hydra.initialize(version_base=None, config_path=\"../config\")\n",
    "\n",
    "task=\"sres\"\n",
    "model=\"mscnn\"\n",
    "dataset=\"merra2\"\n",
    "scenario=\"s1\"\n",
    "fmconfig( task, model, dataset, scenario )\n",
    "# lgm().set_level( logging.DEBUG )\n",
    "\n",
    "load_state = \"best\"\n",
    "save_state = True \n",
    "cfg().task['nbatches'] = 1\n",
    "cfg().task['batch_iter'] = 10\n",
    "cfg().task['nepochs'] = 2\n",
    "cfg().task['lr'] = 1e-4\n",
    "\n",
    "device = torch.device('cuda:0' if torch.cuda.is_available() else 'cpu')\n",
    "if torch.cuda.is_available():\n",
    "    torch.cuda.set_device(device.index)\n",
    "    \n",
    "print( cfg().model.name )"
   ]
  },
  {
   "cell_type": "markdown",
   "metadata": {},
   "source": [
    "### Training data\n",
    "Prepare a Dataloader which computes results on the fly:"
   ]
  },
  {
   "cell_type": "code",
   "execution_count": 3,
   "metadata": {},
   "outputs": [
    {
     "name": "stdout",
     "output_type": "stream",
     "text": [
      "\n",
      "Task start date: 01/01/1995: [1995, 1, 1]\n",
      "\n",
      "Task start date: 01/01/1995: [1995, 1, 1]\n"
     ]
    }
   ],
   "source": [
    "dataset_mgr: Datasets = Datasets( dataset, cfg().task )\n",
    "input_dataset:  BaseDataset  = dataset_mgr.get_dataset( vres=\"low\",  load_inputs=True,  load_base=False, load_targets=False )\n",
    "target_dataset: BaseDataset  = dataset_mgr.get_dataset( vres=\"high\", load_inputs=False, load_base=False, load_targets=True )"
   ]
  },
  {
   "cell_type": "code",
   "execution_count": 4,
   "metadata": {},
   "outputs": [
    {
     "name": "stdout",
     "output_type": "stream",
     "text": [
      " * load_dataset[low](1995-01-01) [lon[64]:[-120.00,37.50:2.50],lat[64]:[-60.00,66.00:2.00]] nts=4 /explore/nobackup/projects/ilab/data/FMF/processed/merra2.sr.1/1995-1-1.us4.nc\n",
      " * load_dataset[low](1995-01-02) [lon[64]:[-120.00,37.50:2.50],lat[64]:[-60.00,66.00:2.00]] nts=4 /explore/nobackup/projects/ilab/data/FMF/processed/merra2.sr.1/1995-1-2.us4.nc\n",
      " * load_dataset[low](1995-01-03) [lon[64]:[-120.00,37.50:2.50],lat[64]:[-60.00,66.00:2.00]] nts=4 /explore/nobackup/projects/ilab/data/FMF/processed/merra2.sr.1/1995-1-3.us4.nc\n",
      " * load_dataset[low](1995-01-04) [lon[64]:[-120.00,37.50:2.50],lat[64]:[-60.00,66.00:2.00]] nts=4 /explore/nobackup/projects/ilab/data/FMF/processed/merra2.sr.1/1995-1-4.us4.nc\n",
      " * load_dataset[low](1995-01-05) [lon[64]:[-120.00,37.50:2.50],lat[64]:[-60.00,66.00:2.00]] nts=4 /explore/nobackup/projects/ilab/data/FMF/processed/merra2.sr.1/1995-1-5.us4.nc\n",
      " * load_dataset[low](1995-01-06) [lon[64]:[-120.00,37.50:2.50],lat[64]:[-60.00,66.00:2.00]] nts=4 /explore/nobackup/projects/ilab/data/FMF/processed/merra2.sr.1/1995-1-6.us4.nc\n",
      " * load_dataset[low](1995-01-07) [lon[64]:[-120.00,37.50:2.50],lat[64]:[-60.00,66.00:2.00]] nts=4 /explore/nobackup/projects/ilab/data/FMF/processed/merra2.sr.1/1995-1-7.us4.nc\n",
      " * load_dataset[low](1995-01-08) [lon[64]:[-120.00,37.50:2.50],lat[64]:[-60.00,66.00:2.00]] nts=4 /explore/nobackup/projects/ilab/data/FMF/processed/merra2.sr.1/1995-1-8.us4.nc\n",
      " * load_dataset[low](1995-01-09) [lon[64]:[-120.00,37.50:2.50],lat[64]:[-60.00,66.00:2.00]] nts=4 /explore/nobackup/projects/ilab/data/FMF/processed/merra2.sr.1/1995-1-9.us4.nc\n",
      " * load_dataset[low](1995-01-10) [lon[64]:[-120.00,37.50:2.50],lat[64]:[-60.00,66.00:2.00]] nts=4 /explore/nobackup/projects/ilab/data/FMF/processed/merra2.sr.1/1995-1-10.us4.nc\n",
      " * load_dataset[low](1995-01-11) [lon[64]:[-120.00,37.50:2.50],lat[64]:[-60.00,66.00:2.00]] nts=4 /explore/nobackup/projects/ilab/data/FMF/processed/merra2.sr.1/1995-1-11.us4.nc\n",
      " * load_dataset[low](1995-01-12) [lon[64]:[-120.00,37.50:2.50],lat[64]:[-60.00,66.00:2.00]] nts=4 /explore/nobackup/projects/ilab/data/FMF/processed/merra2.sr.1/1995-1-12.us4.nc\n",
      " * load_dataset[low](1995-01-13) [lon[64]:[-120.00,37.50:2.50],lat[64]:[-60.00,66.00:2.00]] nts=4 /explore/nobackup/projects/ilab/data/FMF/processed/merra2.sr.1/1995-1-13.us4.nc\n",
      " * load_dataset[low](1995-01-14) [lon[64]:[-120.00,37.50:2.50],lat[64]:[-60.00,66.00:2.00]] nts=4 /explore/nobackup/projects/ilab/data/FMF/processed/merra2.sr.1/1995-1-14.us4.nc\n",
      " * load_dataset[low](1995-01-15) [lon[64]:[-120.00,37.50:2.50],lat[64]:[-60.00,66.00:2.00]] nts=4 /explore/nobackup/projects/ilab/data/FMF/processed/merra2.sr.1/1995-1-15.us4.nc\n",
      " * load_dataset[low](1995-01-16) [lon[64]:[-120.00,37.50:2.50],lat[64]:[-60.00,66.00:2.00]] nts=4 /explore/nobackup/projects/ilab/data/FMF/processed/merra2.sr.1/1995-1-16.us4.nc\n",
      " -----> load low-res batch[1995-01-01]-> [lon:64,lat:64,time:64,level:2], time = 0.544 sec\n",
      "sample_input: shape=(64, 1, 64, 64)\n",
      " *** coerce_to_data_grid: origin={'x': -120.0, 'y': -60.0} extent={'x': 40.0, 'y': 68.0} *** \n",
      " * load_dataset[high](1995-01-01) [lon[256]:[-120.00,39.38:0.62],lat[256]:[-60.00,67.50:0.50]] nts=4 /explore/nobackup/projects/ilab/data/FMF/processed/merra2.sr.1/1995-1-1.nc\n",
      " * load_dataset[high](1995-01-02) [lon[256]:[-120.00,39.38:0.62],lat[256]:[-60.00,67.50:0.50]] nts=4 /explore/nobackup/projects/ilab/data/FMF/processed/merra2.sr.1/1995-1-2.nc\n",
      " * load_dataset[high](1995-01-03) [lon[256]:[-120.00,39.38:0.62],lat[256]:[-60.00,67.50:0.50]] nts=4 /explore/nobackup/projects/ilab/data/FMF/processed/merra2.sr.1/1995-1-3.nc\n",
      " * load_dataset[high](1995-01-04) [lon[256]:[-120.00,39.38:0.62],lat[256]:[-60.00,67.50:0.50]] nts=4 /explore/nobackup/projects/ilab/data/FMF/processed/merra2.sr.1/1995-1-4.nc\n",
      " * load_dataset[high](1995-01-05) [lon[256]:[-120.00,39.38:0.62],lat[256]:[-60.00,67.50:0.50]] nts=4 /explore/nobackup/projects/ilab/data/FMF/processed/merra2.sr.1/1995-1-5.nc\n",
      " * load_dataset[high](1995-01-06) [lon[256]:[-120.00,39.38:0.62],lat[256]:[-60.00,67.50:0.50]] nts=4 /explore/nobackup/projects/ilab/data/FMF/processed/merra2.sr.1/1995-1-6.nc\n",
      " * load_dataset[high](1995-01-07) [lon[256]:[-120.00,39.38:0.62],lat[256]:[-60.00,67.50:0.50]] nts=4 /explore/nobackup/projects/ilab/data/FMF/processed/merra2.sr.1/1995-1-7.nc\n",
      " * load_dataset[high](1995-01-08) [lon[256]:[-120.00,39.38:0.62],lat[256]:[-60.00,67.50:0.50]] nts=4 /explore/nobackup/projects/ilab/data/FMF/processed/merra2.sr.1/1995-1-8.nc\n",
      " * load_dataset[high](1995-01-09) [lon[256]:[-120.00,39.38:0.62],lat[256]:[-60.00,67.50:0.50]] nts=4 /explore/nobackup/projects/ilab/data/FMF/processed/merra2.sr.1/1995-1-9.nc\n",
      " * load_dataset[high](1995-01-10) [lon[256]:[-120.00,39.38:0.62],lat[256]:[-60.00,67.50:0.50]] nts=4 /explore/nobackup/projects/ilab/data/FMF/processed/merra2.sr.1/1995-1-10.nc\n",
      " * load_dataset[high](1995-01-11) [lon[256]:[-120.00,39.38:0.62],lat[256]:[-60.00,67.50:0.50]] nts=4 /explore/nobackup/projects/ilab/data/FMF/processed/merra2.sr.1/1995-1-11.nc\n",
      " * load_dataset[high](1995-01-12) [lon[256]:[-120.00,39.38:0.62],lat[256]:[-60.00,67.50:0.50]] nts=4 /explore/nobackup/projects/ilab/data/FMF/processed/merra2.sr.1/1995-1-12.nc\n",
      " * load_dataset[high](1995-01-13) [lon[256]:[-120.00,39.38:0.62],lat[256]:[-60.00,67.50:0.50]] nts=4 /explore/nobackup/projects/ilab/data/FMF/processed/merra2.sr.1/1995-1-13.nc\n",
      " * load_dataset[high](1995-01-14) [lon[256]:[-120.00,39.38:0.62],lat[256]:[-60.00,67.50:0.50]] nts=4 /explore/nobackup/projects/ilab/data/FMF/processed/merra2.sr.1/1995-1-14.nc\n",
      " * load_dataset[high](1995-01-15) [lon[256]:[-120.00,39.38:0.62],lat[256]:[-60.00,67.50:0.50]] nts=4 /explore/nobackup/projects/ilab/data/FMF/processed/merra2.sr.1/1995-1-15.nc\n",
      " * load_dataset[high](1995-01-16) [lon[256]:[-120.00,39.38:0.62],lat[256]:[-60.00,67.50:0.50]] nts=4 /explore/nobackup/projects/ilab/data/FMF/processed/merra2.sr.1/1995-1-16.nc\n",
      " -----> load high-res batch[1995-01-01]-> [lon:256,lat:256,time:64,level:2], time = 0.654 sec\n",
      "SHAPES: target[64, 1, 256, 256], (nlat, nlon)=(256, 256)\n"
     ]
    }
   ],
   "source": [
    "model_manager: SRModels = SRModels( input_dataset, target_dataset, device )\n",
    "trainer:   ModelTrainer = ModelTrainer( model_manager ) "
   ]
  },
  {
   "cell_type": "markdown",
   "metadata": {},
   "source": [
    "## Training the model"
   ]
  },
  {
   "cell_type": "code",
   "execution_count": 5,
   "metadata": {},
   "outputs": [
    {
     "name": "stdout",
     "output_type": "stream",
     "text": [
      "Loaded model from /explore/nobackup/projects/ilab/data/FMF/results/checkpoints/merra2-mscnn.1.best.pt, loss = 0.28\n",
      "Epoch 1503/1504: \n",
      "  ----------- Epoch 1503/1504   ----------- \n",
      " ** Loss[1995-01-01:0]:  0.02840  [0.0094,0.0190]\n",
      " ** Loss[1995-01-01:1]:  0.02801  [0.0093,0.0188]\n",
      " ** Loss[1995-01-01:2]:  0.02767  [0.0091,0.0185]\n",
      " ** Loss[1995-01-01:3]:  0.02743  [0.0090,0.0184]\n",
      " ** Loss[1995-01-01:4]:  0.02732  [0.0090,0.0183]\n",
      " ** Loss[1995-01-01:5]:  0.02734  [0.0090,0.0184]\n",
      " ** Loss[1995-01-01:6]:  0.02744  [0.0090,0.0185]\n",
      " ** Loss[1995-01-01:7]:  0.02760  [0.0090,0.0186]\n",
      " ** Loss[1995-01-01:8]:  0.02778  [0.0091,0.0187]\n",
      " ** Loss[1995-01-01:9]:  0.02785  [0.0090,0.0188]\n",
      "Saving current model to /explore/nobackup/projects/ilab/data/FMF/results/checkpoints/merra2-mscnn.1.current.pt\n",
      "   ---- Saving best model (loss=0.2768) to /explore/nobackup/projects/ilab/data/FMF/results/checkpoints/merra2-mscnn.1.best.pt\n",
      "Epoch 1502, time: 4.8, loss: 0.27685 [0.0090,0.0188]\n",
      "Epoch 1504/1504: \n",
      "  ----------- Epoch 1504/1504   ----------- \n",
      " ** Loss[1995-01-01:0]:  0.02770  [0.0090,0.0187]\n",
      " ** Loss[1995-01-01:1]:  0.02742  [0.0089,0.0185]\n",
      " ** Loss[1995-01-01:2]:  0.02713  [0.0087,0.0184]\n",
      " ** Loss[1995-01-01:3]:  0.02693  [0.0087,0.0183]\n",
      " ** Loss[1995-01-01:4]:  0.02688  [0.0086,0.0183]\n",
      " ** Loss[1995-01-01:5]:  0.02700  [0.0086,0.0184]\n",
      " ** Loss[1995-01-01:6]:  0.02725  [0.0087,0.0185]\n",
      " ** Loss[1995-01-01:7]:  0.02759  [0.0088,0.0187]\n",
      " ** Loss[1995-01-01:8]:  0.02787  [0.0090,0.0189]\n",
      " ** Loss[1995-01-01:9]:  0.02799  [0.0091,0.0189]\n",
      "Saving current model to /explore/nobackup/projects/ilab/data/FMF/results/checkpoints/merra2-mscnn.1.current.pt\n",
      "   ---- Saving best model (loss=0.2738) to /explore/nobackup/projects/ilab/data/FMF/results/checkpoints/merra2-mscnn.1.best.pt\n",
      "Epoch 1503, time: 4.8, loss: 0.27376 [0.0091,0.0189]\n",
      "--------------------------------------------------------------------------------\n",
      " -------> Training model with 31217410 took 0.17 min.\n"
     ]
    },
    {
     "data": {
      "text/plain": [
       "0.2737642154097557"
      ]
     },
     "execution_count": 5,
     "metadata": {},
     "output_type": "execute_result"
    }
   ],
   "source": [
    "trainer.train( load_state=load_state, save_state=save_state )"
   ]
  },
  {
   "cell_type": "code",
   "execution_count": 6,
   "metadata": {},
   "outputs": [
    {
     "name": "stdout",
     "output_type": "stream",
     "text": [
      " * in: [64, 1, 64, 64], target: [64, 1, 256, 256], out: [64, 1, 256, 256]\n"
     ]
    }
   ],
   "source": [
    "inputs, targets, predictions = trainer.apply( date_index = 0 )"
   ]
  },
  {
   "cell_type": "code",
   "execution_count": 7,
   "metadata": {
    "collapsed": false,
    "jupyter": {
     "outputs_hidden": false
    }
   },
   "outputs": [
    {
     "name": "stdout",
     "output_type": "stream",
     "text": [
      "Plotting 4 images, sample('batch', 'channels', 'lat', 'lon'): (64, 1, 64, 64)\n"
     ]
    },
    {
     "data": {
      "application/vnd.jupyter.widget-view+json": {
       "model_id": "214e27a838334e0ba2a672527567601b",
       "version_major": 2,
       "version_minor": 0
      },
      "text/plain": [
       "VBox(children=(Canvas(toolbar=Toolbar(toolitems=[('Home', 'Reset original view', 'home', 'home'), ('Back', 'Ba…"
      ]
     },
     "execution_count": 7,
     "metadata": {},
     "output_type": "execute_result"
    }
   ],
   "source": [
    "pdata:  Dict[str,xa.DataArray] = create_plot_data( inputs, targets, predictions, model_manager.sample_input, trainer.sample_target )\n",
    "mplplot( pdata, fsize=8.0 )"
   ]
  },
  {
   "cell_type": "code",
   "execution_count": 8,
   "metadata": {},
   "outputs": [],
   "source": [
    "# s = 0; ch = 0\n",
    "# print( f'Input shape: {inp.shape}, Output shape: {out.shape}, type = {type(inp)} ')\n",
    "# input_image = inp[s, ch]\n",
    "# vmin, vmax = gridops.color_range(input_image,2.0)\n",
    "# \n",
    "# fig = plt.figure()\n",
    "# im = gridops.plot_griddata(input_image, fig, projection='3d', title='input', vmin=vmin, vmax=vmax )\n",
    "# plt.colorbar(im)\n",
    "# plt.show()\n",
    "# \n",
    "# fig = plt.figure()\n",
    "# im = gridops.plot_griddata(out[s, ch], fig, projection='3d', title='prediction', vmin=vmin, vmax=vmax )\n",
    "# plt.colorbar(im)\n",
    "# plt.show()\n",
    "# \n",
    "# fig = plt.figure()\n",
    "# im = gridops.plot_griddata(tar[s, ch], fig, projection='3d', title='target', vmin=vmin, vmax=vmax )\n",
    "# plt.colorbar(im)\n",
    "# plt.show()\n",
    "# \n",
    "# fig = plt.figure()\n",
    "# im = gridops.plot_griddata((tar-out)[s, ch], fig, projection='3d', title='error', vmin=vmin, vmax=vmax )\n",
    "# plt.colorbar(im)\n",
    "# plt.show()"
   ]
  },
  {
   "cell_type": "code",
   "execution_count": null,
   "metadata": {},
   "outputs": [],
   "source": []
  }
 ],
 "metadata": {
  "kernelspec": {
   "display_name": "Python [conda env:conda-fmod]",
   "language": "python",
   "name": "conda-env-conda-fmod-py"
  },
  "language_info": {
   "codemirror_mode": {
    "name": "ipython",
    "version": 3
   },
   "file_extension": ".py",
   "mimetype": "text/x-python",
   "name": "python",
   "nbconvert_exporter": "python",
   "pygments_lexer": "ipython3",
   "version": "3.10.13"
  },
  "vscode": {
   "interpreter": {
    "hash": "31f2aee4e71d21fbe5cf8b01ff0e069b9275f58929596ceb00d14d90e3e16cd6"
   }
  }
 },
 "nbformat": 4,
 "nbformat_minor": 4
}
