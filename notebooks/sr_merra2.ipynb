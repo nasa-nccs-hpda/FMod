{
 "cells": [
  {
   "attachments": {},
   "cell_type": "markdown",
   "metadata": {},
   "source": [
    "# MERRA2 Super Resolution\n",
    "\n",
    "A simple notebook to test assorted SR models operating on MERRA2 data\n",
    "\n",
    "## Preparation"
   ]
  },
  {
   "cell_type": "code",
   "execution_count": 1,
   "metadata": {},
   "source": [
    "%matplotlib ipympl\n",
    "import torch\n",
    "import xarray as xa\n",
    "import hydra\n",
    "from typing import Dict\n",
    "from fmod.view.sres import mplplot, create_plot_data\n",
    "from fmod.base.util.config import fmconfig, cfg\n",
    "from fmod.controller.dual_trainer import ModelTrainer\n",
    "from fmod.base.io.loader import BaseDataset\n",
    "from fmod.model.sres.manager import SRModels\n",
    "from fmod.data.dataset import Datasets"
   ],
   "outputs": []
  },
  {
   "cell_type": "code",
   "execution_count": 2,
   "metadata": {},
   "source": [
    "hydra.initialize(version_base=None, config_path=\"../config\")\n",
    "\n",
    "task=\"sres\"\n",
    "model=\"mscnn\"\n",
    "dataset=\"merra2\"\n",
    "scenario=\"s1\"\n",
    "fmconfig( task, model, dataset, scenario )\n",
    "# lgm().set_level( logging.DEBUG )\n",
    "\n",
    "load_state = \"best\"\n",
    "save_state = True \n",
    "cfg().task['nepochs'] = 100\n",
    "cfg().task['lr'] = 1e-4\n",
    "\n",
    "device = torch.device('cuda:0' if torch.cuda.is_available() else 'cpu')\n",
    "if torch.cuda.is_available():\n",
    "    torch.cuda.set_device(device.index)\n",
    "    \n",
    "print( cfg().model.name )"
   ],
   "outputs": []
  },
  {
   "attachments": {},
   "cell_type": "markdown",
   "metadata": {},
   "source": [
    "### Training data\n",
    "Prepare a Dataloader which computes results on the fly:"
   ]
  },
  {
   "cell_type": "code",
   "execution_count": null,
   "metadata": {},
   "source": [
    "dataset_mgr: Datasets = Datasets( dataset, cfg().task )\n",
    "input_dataset:  BaseDataset  = dataset_mgr.get_dataset( vres=\"low\",  load_inputs=True,  load_base=False, load_targets=False )\n",
    "target_dataset: BaseDataset  = dataset_mgr.get_dataset( vres=\"high\", load_inputs=False, load_base=False, load_targets=True )"
   ],
   "outputs": []
  },
  {
   "metadata": {},
   "cell_type": "code",
   "execution_count": 6,
   "source": [
    "model_manager: SRModels = SRModels( input_dataset, target_dataset, device )\n",
    "trainer:   ModelTrainer = ModelTrainer( model_manager ) "
   ],
   "outputs": []
  },
  {
   "attachments": {},
   "cell_type": "markdown",
   "metadata": {},
   "source": [
    "## Training the model"
   ]
  },
  {
   "cell_type": "code",
   "source": "trainer.train( load_state=load_state, save_state=save_state )",
   "metadata": {},
   "execution_count": null,
   "outputs": []
  },
  {
   "metadata": {},
   "cell_type": "code",
   "execution_count": 10,
   "source": "inputs, targets, predictions = trainer.apply( date_index = 0 )",
   "outputs": []
  },
  {
   "cell_type": "code",
   "execution_count": null,
   "metadata": {
    "collapsed": false
   },
   "source": [
    "pdata:  Dict[str,xa.DataArray] = create_plot_data( inputs, targets, predictions, model_manager.sample_input, model_manager.sample_target )\n",
    "mplplot( pdata, fsize=8.0 )"
   ],
   "outputs": []
  },
  {
   "cell_type": "code",
   "source": [
    "# s = 0; ch = 0\n",
    "# print( f'Input shape: {inp.shape}, Output shape: {out.shape}, type = {type(inp)} ')\n",
    "# input_image = inp[s, ch]\n",
    "# vmin, vmax = gridops.color_range(input_image,2.0)\n",
    "# \n",
    "# fig = plt.figure()\n",
    "# im = gridops.plot_griddata(input_image, fig, projection='3d', title='input', vmin=vmin, vmax=vmax )\n",
    "# plt.colorbar(im)\n",
    "# plt.show()\n",
    "# \n",
    "# fig = plt.figure()\n",
    "# im = gridops.plot_griddata(out[s, ch], fig, projection='3d', title='prediction', vmin=vmin, vmax=vmax )\n",
    "# plt.colorbar(im)\n",
    "# plt.show()\n",
    "# \n",
    "# fig = plt.figure()\n",
    "# im = gridops.plot_griddata(tar[s, ch], fig, projection='3d', title='target', vmin=vmin, vmax=vmax )\n",
    "# plt.colorbar(im)\n",
    "# plt.show()\n",
    "# \n",
    "# fig = plt.figure()\n",
    "# im = gridops.plot_griddata((tar-out)[s, ch], fig, projection='3d', title='error', vmin=vmin, vmax=vmax )\n",
    "# plt.colorbar(im)\n",
    "# plt.show()"
   ],
   "metadata": {},
   "execution_count": 13,
   "outputs": []
  },
  {
   "cell_type": "code",
   "execution_count": null,
   "metadata": {},
   "source": [],
   "outputs": []
  }
 ],
 "metadata": {
  "kernelspec": {
   "display_name": "Python 3 (ipykernel)",
   "language": "python",
   "name": "python3"
  },
  "language_info": {
   "codemirror_mode": {
    "name": "ipython",
    "version": 3
   },
   "file_extension": ".py",
   "mimetype": "text/x-python",
   "name": "python",
   "nbconvert_exporter": "python",
   "pygments_lexer": "ipython3",
   "version": "3.10.12"
  },
  "orig_nbformat": 4,
  "vscode": {
   "interpreter": {
    "hash": "31f2aee4e71d21fbe5cf8b01ff0e069b9275f58929596ceb00d14d90e3e16cd6"
   }
  }
 },
 "nbformat": 4,
 "nbformat_minor": 2
}
