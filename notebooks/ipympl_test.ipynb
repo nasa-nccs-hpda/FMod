{
 "cells": [
  {
   "cell_type": "code",
   "execution_count": null,
   "id": "faf382d637a165ec",
   "metadata": {
    "collapsed": true
   },
   "outputs": [],
   "source": [
    "import matplotlib.pyplot as plt\n",
    "from matplotlib.widgets import Slider, RadioButtons\n",
    "\n",
    "%matplotlib widget"
   ]
  },
  {
   "metadata": {},
   "cell_type": "code",
   "outputs": [],
   "execution_count": null,
   "source": [
    "def plot():\n",
    "    def create_axes():\n",
    "        ax_slider1 = plt.axes([0.1, 0.1, 0.3, 0.1])\n",
    "        slider1 = Slider(label=\"\", ax=ax_slider1, valmin=0, valmax=10)\n",
    "\n",
    "        ax_slider2 = plt.axes([0.1, 0.25, 0.3, 0.1])\n",
    "        slider2 = Slider(ax=ax_slider2, label=\"\", valmin=0, valmax=10)\n",
    "\n",
    "        ax_button = plt.axes([0.1, 0.5, 0.15, 0.1])\n",
    "        button = RadioButtons(ax=ax_button, labels=[\"a\", \"b\"])\n",
    "\n",
    "        return slider1, slider2, button\n",
    "\n",
    "    def update_axes():\n",
    "        good_slider.ax.set_xlim(1, 2)\n",
    "        fig.canvas.draw_idle()\n",
    "\n",
    "    def update_good_slider(offset):\n",
    "        print(offset)\n",
    "        update_axes()\n",
    "\n",
    "    def update_buttons(vlim_type):\n",
    "        print(vlim_type)\n",
    "        update_axes()\n",
    "\n",
    "    def update_bad_slider(factor):\n",
    "        print(factor)\n",
    "        update_axes()\n",
    "\n",
    "    fig, z_ax = plt.subplots()\n",
    "    fig.subplots_adjust(left=0.5)\n",
    "\n",
    "    good_slider, bad_slider, buttons = create_axes()\n",
    "\n",
    "    good_slider.on_changed(update_good_slider)\n",
    "    buttons.on_clicked(update_buttons)\n",
    "    bad_slider.on_changed(update_bad_slider)\n",
    "    plt.show()"
   ],
   "id": "1d6b7d92b544ccfd"
  },
  {
   "metadata": {},
   "cell_type": "code",
   "outputs": [],
   "execution_count": null,
   "source": "w = plot()",
   "id": "initial_id"
  }
 ],
 "metadata": {
  "kernelspec": {
   "display_name": "Python 3",
   "language": "python",
   "name": "python3"
  },
  "language_info": {
   "codemirror_mode": {
    "name": "ipython",
    "version": 2
   },
   "file_extension": ".py",
   "mimetype": "text/x-python",
   "name": "python",
   "nbconvert_exporter": "python",
   "pygments_lexer": "ipython2",
   "version": "2.7.6"
  }
 },
 "nbformat": 4,
 "nbformat_minor": 5
}
