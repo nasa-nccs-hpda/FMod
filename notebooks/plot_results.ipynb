{
 "cells": [
  {
   "metadata": {},
   "cell_type": "markdown",
   "source": [
    "# Cape Basin Super Resolution\n",
    "\n",
    "A simple notebook to test assorted SR models operating on the Cape Basin dataset\n",
    "\n",
    "## Preparation"
   ]
  },
  {
   "metadata": {},
   "cell_type": "code",
   "outputs": [],
   "execution_count": 1,
   "source": [
    "%matplotlib ipympl\n",
    "import torch\n",
    "import xarray as xa\n",
    "import hydra, os\n",
    "from fmod.base.util.config import fmconfig, cfg, ConfigContext\n",
    "from fmod.model.sres.manager import ResultsAccumulator\n",
    "from fmod.base.io.loader import TSet\n",
    "from fmod.base.util.ops import fmbdir, fmtp\n",
    "from fmod.base.source.loader import srRes"
   ]
  },
  {
   "cell_type": "code",
   "execution_count": 2,
   "metadata": {},
   "outputs": [],
   "source": [
    "hydra.initialize(version_base=None, config_path=\"../config\")\n",
    "device = ConfigContext.set_device()\n",
    "\n",
    "task=\"sres\"\n",
    "model=\"dbpn\"\n",
    "dataset=\"LLC4320-v1\"\n",
    "scenario=\"s4.1\"\n",
    "fmconfig( task, model, dataset, scenario )\n",
    "\n",
    "load_state  = \"current\"\n",
    "save_state  = True "
   ]
  },
  {
   "attachments": {},
   "cell_type": "markdown",
   "metadata": {},
   "source": [
    "### Results data\n",
    "Read results summary from previous runs:"
   ]
  },
  {
   "metadata": {},
   "cell_type": "code",
   "outputs": [],
   "execution_count": 6,
   "source": [
    "accum_results = ResultsAccumulator(task,dataset,scenario)\n",
    "results = accum_results.read( fmbdir('processed') )\n",
    "\n",
    "for result in results:\n",
    "    print( result )\n",
    " "
   ]
  }
 ],
 "metadata": {
  "kernelspec": {
   "display_name": "Python 3 (ipykernel)",
   "language": "python",
   "name": "python3"
  },
  "language_info": {
   "codemirror_mode": {
    "name": "ipython",
    "version": 3
   },
   "file_extension": ".py",
   "mimetype": "text/x-python",
   "name": "python",
   "nbconvert_exporter": "python",
   "pygments_lexer": "ipython3",
   "version": "3.10.12"
  },
  "orig_nbformat": 4,
  "vscode": {
   "interpreter": {
    "hash": "31f2aee4e71d21fbe5cf8b01ff0e069b9275f58929596ceb00d14d90e3e16cd6"
   }
  }
 },
 "nbformat": 4,
 "nbformat_minor": 2
}
