{
 "cells": [
  {
   "metadata": {},
   "cell_type": "markdown",
   "source": [
    "# Cape Basin Super Resolution\n",
    "\n",
    "A simple notebook to test assorted SR models operating on the Cape Basin dataset\n",
    "\n",
    "## Preparation"
   ]
  },
  {
   "metadata": {},
   "cell_type": "code",
   "outputs": [],
   "execution_count": 1,
   "source": [
    "%matplotlib ipympl\n",
    "import torch\n",
    "import xarray as xa\n",
    "import hydra, os\n",
    "from fmod.base.util.config import fmconfig, cfg, ConfigContext\n",
    "from fmod.model.sres.manager import ResultsAccumulator\n",
    "from fmod.base.io.loader import TSet\n",
    "from fmod.base.util.ops import fmbdir, fmtp\n",
    "import matplotlib.pyplot as plt"
   ]
  },
  {
   "cell_type": "code",
   "execution_count": 2,
   "metadata": {},
   "outputs": [],
   "source": [
    "hydra.initialize(version_base=None, config_path=\"../config\")\n",
    "device = ConfigContext.set_device()\n",
    "def pkey( model: str, tset: TSet, ltype: str ): return '-'.join([model,tset.value,ltype])\n",
    "\n",
    "task=\"sres\"\n",
    "model = 'dbpn' # [ 'dbpn', 'edsr', 'srdn', 'unet', 'vdsr', 'mscnn' ]\n",
    "dataset=\"LLC4320-v1\"\n",
    "scenario=\"s4.1\"\n",
    "fmconfig( task, model, dataset, scenario )\n",
    "fsize = 6.0"
   ]
  },
  {
   "attachments": {},
   "cell_type": "markdown",
   "metadata": {},
   "source": [
    "### Results data\n",
    "Read results summary from previous runs:"
   ]
  },
  {
   "metadata": {},
   "cell_type": "code",
   "outputs": [],
   "execution_count": 6,
   "source": [
    "accum_results = ResultsAccumulator(task,dataset,scenario)\n",
    "results = accum_results.read( fmbdir('processed') )\n",
    "\n",
    "plots_data = {}\n",
    "for tset in [ TSet.Validation, TSet.Test ]:\n",
    "    for ltype in [ 'model_loss', 'interp_loss' ]:\n",
    "        plot_data = plots_data.setdefault( pkey(model,tset,ltype), {} )\n",
    "        for result in results:\n",
    "            if result['model'].strip() == model and result['tset'].strip() == tset.value:\n",
    "                plot_data[ result['epoch'] ] = result[ltype]\n",
    "                \n",
    "x, y = {}, {}\n",
    "for tset in [ TSet.Validation, TSet.Test ]:\n",
    "    pdata = plots_data[ pkey(model,tset,'model_loss') ]\n",
    "    x[ tset ] = list(pdata.keys())\n",
    "    y[ tset ] = list(pdata.values())\n",
    "                \n",
    "fmt = { TSet.Validation: \"b\", TSet.Test: \"r\" }"
   ]
  },
  {
   "metadata": {},
   "cell_type": "code",
   "outputs": [],
   "execution_count": null,
   "source": [
    "with plt.ioff():\n",
    "    fig, axs = plt.subplots(nrows=1, ncols=1, figsize=[fsize*2,fsize], layout=\"tight\")\n",
    "\n",
    "for tset in [ TSet.Validation.value, TSet.Test.value ]:    \n",
    "    axs.plot( x[ tset ], y[ tset ], fmt[tset], label=tset )\n",
    "    \n",
    "plt.show()"
   ]
  }
 ],
 "metadata": {
  "kernelspec": {
   "display_name": "Python 3 (ipykernel)",
   "language": "python",
   "name": "python3"
  },
  "language_info": {
   "codemirror_mode": {
    "name": "ipython",
    "version": 3
   },
   "file_extension": ".py",
   "mimetype": "text/x-python",
   "name": "python",
   "nbconvert_exporter": "python",
   "pygments_lexer": "ipython3",
   "version": "3.10.12"
  },
  "orig_nbformat": 4,
  "vscode": {
   "interpreter": {
    "hash": "31f2aee4e71d21fbe5cf8b01ff0e069b9275f58929596ceb00d14d90e3e16cd6"
   }
  }
 },
 "nbformat": 4,
 "nbformat_minor": 2
}
