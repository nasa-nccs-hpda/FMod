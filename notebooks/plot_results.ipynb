{
 "cells": [
  {
   "metadata": {},
   "cell_type": "markdown",
   "source": [
    "# Cape Basin Super Resolution\n",
    "\n",
    "A simple notebook to test assorted SR models operating on the Cape Basin dataset\n",
    "\n",
    "## Preparation"
   ]
  },
  {
   "metadata": {},
   "cell_type": "code",
   "outputs": [],
   "execution_count": 1,
   "source": [
    "%matplotlib ipympl\n",
    "import torch\n",
    "import numpy as np\n",
    "import hydra, os\n",
    "from fmod.base.util.config import fmconfig, cfg, ConfigContext\n",
    "from fmod.model.sres.manager import ResultsAccumulator\n",
    "from fmod.base.io.loader import TSet\n",
    "from fmod.base.util.ops import fmbdir, fmtp\n",
    "from typing import Any, Dict, List, Tuple, Type, Optional, Union\n",
    "import matplotlib.pyplot as plt"
   ]
  },
  {
   "cell_type": "code",
   "execution_count": 2,
   "metadata": {},
   "outputs": [],
   "source": [
    "hydra.initialize(version_base=None, config_path=\"../config\")\n",
    "device = ConfigContext.set_device()\n",
    "\n",
    "\n",
    "task=\"sres\"\n",
    "models = [ 'dbpn' ]\n",
    "dataset=\"LLC4320-v1\"\n",
    "scenario=\"s4\"\n",
    "fmconfig( task, models[0], dataset, scenario )\n",
    "fsize, nmodels = 4.0, len(models)\n",
    "yscale = \"log\""
   ]
  },
  {
   "attachments": {},
   "cell_type": "markdown",
   "metadata": {},
   "source": [
    "### Results data\n",
    "Read results summary from previous runs:"
   ]
  },
  {
   "metadata": {},
   "cell_type": "code",
   "outputs": [],
   "execution_count": null,
   "source": [
    "accum_results = ResultsAccumulator(task,dataset,scenario)\n",
    "plot_data: Dict[str,Tuple[np.ndarray,np.ndarray]] = accum_results.get_plot_data(fmbdir('processed'), models)"
   ]
  },
  {
   "metadata": {},
   "cell_type": "markdown",
   "source": "### Plot Losses"
  },
  {
   "metadata": {},
   "cell_type": "code",
   "outputs": [],
   "execution_count": null,
   "source": [
    "with plt.ioff():\n",
    "\tfig, axs = plt.subplots(nrows=nmodels, ncols=1, figsize=[fsize*2,fsize*nmodels], layout=\"tight\")\n",
    "\n",
    "fig.suptitle('SRes Loss Over Training Epochs', fontsize=14, va=\"top\", y=1.0)\n",
    "fmt = { TSet.Validation: \"b\", TSet.Test: \"g\" }\n",
    "for ax, model in zip(axs,models):\n",
    "    x,y = plot_data[model]\n",
    "    min_loss = {}\n",
    "    for tset in [ TSet.Validation, TSet.Test ]:\n",
    "        xp, yp = x[ tset ], y[ tset ]\n",
    "        min_loss[tset] = yp.min() if (yp.size > 0) else 0.0\n",
    "        ax.plot( xp, yp, fmt[tset], label=tset.name )\n",
    "    ax.set_xlabel(\"Epoch\")\n",
    "    ax.set_ylabel(\"Loss\")\n",
    "    ax.set_title(f\"Model '{model}':  Validation Loss = {min_loss[TSet.Validation]:.4f}, Test Loss = {min_loss[TSet.Test]:.4f} \")\n",
    "    ax.legend()\n",
    "    \n",
    "plt.show()"
   ]
  }
 ],
 "metadata": {
  "kernelspec": {
   "display_name": "Python 3 (ipykernel)",
   "language": "python",
   "name": "python3"
  },
  "language_info": {
   "codemirror_mode": {
    "name": "ipython",
    "version": 3
   },
   "file_extension": ".py",
   "mimetype": "text/x-python",
   "name": "python",
   "nbconvert_exporter": "python",
   "pygments_lexer": "ipython3",
   "version": "3.10.12"
  },
  "orig_nbformat": 4,
  "vscode": {
   "interpreter": {
    "hash": "31f2aee4e71d21fbe5cf8b01ff0e069b9275f58929596ceb00d14d90e3e16cd6"
   }
  }
 },
 "nbformat": 4,
 "nbformat_minor": 2
}
