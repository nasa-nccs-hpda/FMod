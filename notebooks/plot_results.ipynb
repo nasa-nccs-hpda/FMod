{
 "cells": [
  {
   "cell_type": "code",
   "execution_count": null,
   "id": "eb3354fa294bfe51",
   "metadata": {
    "collapsed": true
   },
   "outputs": [],
   "source": [
    "%matplotlib ipympl\n",
    "from typing import Any, Dict, List, Tuple, Type, Optional, Union\n",
    "from fmod.controller.workflow import WorkflowController\n",
    "from fmod.base.io.loader import ncFormat, TSet"
   ]
  },
  {
   "metadata": {
    "jupyter": {
     "is_executing": true
    }
   },
   "cell_type": "code",
   "source": [
    "cname = \"sres\"\n",
    "model =  'dbpn'  # [ 'dbpn', 'edsr', 'srdn', 'unet', 'vdsr', 'mscnn' ]\n",
    "ccustom: Dict[str,Any] = {}\n",
    "\n",
    "configuration = dict(\n",
    "\ttask = \"cape_basin\",\n",
    "\tdataset = \"LLC4320\",\n",
    "\tscenario = \"s4\",\n",
    "\tplatform = \"explore\"\n",
    ")\n",
    "\n",
    "controller = WorkflowController( cname, configuration )\n",
    "controller.init_plotting( cname, model, **ccustom )"
   ],
   "id": "e0fe5ee8cdf65d78",
   "outputs": [],
   "execution_count": null
  },
  {
   "metadata": {},
   "cell_type": "code",
   "outputs": [],
   "execution_count": null,
   "source": "controller.get_result_view( TSet.Validation, fsize=8.0 )",
   "id": "a2d9b37022f7162"
  },
  {
   "metadata": {},
   "cell_type": "code",
   "outputs": [],
   "execution_count": null,
   "source": "controller.get_result_view( TSet.Test, fsize=8.0 )",
   "id": "c6fa75772a811cfe"
  },
  {
   "metadata": {},
   "cell_type": "markdown",
   "source": "",
   "id": "7091a875a34975e4"
  }
 ],
 "metadata": {
  "kernelspec": {
   "display_name": "Python 3",
   "language": "python",
   "name": "python3"
  },
  "language_info": {
   "codemirror_mode": {
    "name": "ipython",
    "version": 2
   },
   "file_extension": ".py",
   "mimetype": "text/x-python",
   "name": "python",
   "nbconvert_exporter": "python",
   "pygments_lexer": "ipython2",
   "version": "2.7.6"
  }
 },
 "nbformat": 4,
 "nbformat_minor": 5
}
