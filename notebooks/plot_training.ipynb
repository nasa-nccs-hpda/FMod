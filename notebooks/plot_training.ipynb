{
 "cells": [
  {
   "cell_type": "code",
   "execution_count": null,
   "id": "eb3354fa294bfe51",
   "metadata": {
    "collapsed": true
   },
   "outputs": [],
   "source": [
    "%matplotlib ipympl\n",
    "from typing import Any, Dict, List, Tuple, Type, Optional, Union\n",
    "from fmod.controller.workflow import WorkflowController"
   ]
  },
  {
   "metadata": {
    "jupyter": {
     "is_executing": true
    }
   },
   "cell_type": "code",
   "source": [
    "cname = \"sres\"\n",
    "model =  'dbpn'  # [ 'dbpn', 'edsr', 'srdn', 'unet', 'vdsr', 'mscnn' ]\n",
    "ccustom: Dict[str,Any] = {}\n",
    "yscale = \"log\"\n",
    "\n",
    "configuration = dict(\n",
    "\ttask = \"sres\",\n",
    "\tdataset = \"LLC4320\",\n",
    "\tscenario = \"s4\",\n",
    "\tpipeline = \"sres\",\n",
    "\tplatform = \"explore\"\n",
    ")\n",
    "\n",
    "controller = WorkflowController( cname, configuration )\n",
    "controller.init_plotting( cname, model, **ccustom )"
   ],
   "id": "e0fe5ee8cdf65d78",
   "outputs": [],
   "execution_count": null
  },
  {
   "metadata": {},
   "cell_type": "code",
   "outputs": [],
   "execution_count": null,
   "source": "controller.get_training_view( fsize=8.00 )",
   "id": "a2d9b37022f7162"
  }
 ],
 "metadata": {
  "kernelspec": {
   "display_name": "Python 3",
   "language": "python",
   "name": "python3"
  },
  "language_info": {
   "codemirror_mode": {
    "name": "ipython",
    "version": 2
   },
   "file_extension": ".py",
   "mimetype": "text/x-python",
   "name": "python",
   "nbconvert_exporter": "python",
   "pygments_lexer": "ipython2",
   "version": "2.7.6"
  }
 },
 "nbformat": 4,
 "nbformat_minor": 5
}
