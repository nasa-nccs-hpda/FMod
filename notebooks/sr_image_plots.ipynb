{
 "cells": [
  {
   "cell_type": "code",
   "execution_count": null,
   "id": "eb3354fa294bfe51",
   "metadata": {
    "collapsed": true
   },
   "outputs": [],
   "source": [
    "%matplotlib ipympl\n",
    "import torch, time\n",
    "import xarray as xa\n",
    "from fmod.base.gpu import set_device, get_device\n",
    "import hydra, os\n",
    "from fmod.base.util.config import fmconfig, ConfigContext, cfg\n",
    "from fmod.controller.dual_trainer import ModelTrainer\n",
    "from typing import Any, Dict, List, Tuple, Type, Optional, Union\n",
    "from fmod.model.sres.manager import SRModels, ResultsAccumulator\n",
    "from fmod.base.util.ops import fmbdir, fmtp\n",
    "from fmod.base.io.loader import ncFormat, TSet\n",
    "from fmod.base.plot.sres import SRPlot"
   ]
  },
  {
   "metadata": {},
   "cell_type": "code",
   "outputs": [],
   "execution_count": null,
   "source": [
    "task = \"sres\"\n",
    "model =  'dbpn'  # [ 'dbpn', 'edsr', 'srdn', 'unet', 'vdsr', 'mscnn' ]\n",
    "dataset = \"LLC4320-v1\"\n",
    "scenario = \"s4\"\n",
    "seed = int( time.time()/60 )\n",
    "ccustom = {}"
   ],
   "id": "e0fe5ee8cdf65d78"
  },
  {
   "metadata": {},
   "cell_type": "code",
   "outputs": [],
   "execution_count": null,
   "source": [
    "with ConfigContext(task, model, dataset, scenario, ccustom) as cc:\n",
    "    results = ResultsAccumulator(task, dataset, scenario, model)\n",
    "    model_manager: SRModels = SRModels( get_device() )\n",
    "    trainer: ModelTrainer = ModelTrainer( model_manager, results )"
   ],
   "id": "initial_id"
  },
  {
   "metadata": {},
   "cell_type": "code",
   "outputs": [],
   "execution_count": null,
   "source": [
    "srplot = SRPlot( trainer, TSet.Validation, fsize=8.0 )\n",
    "srplot.plot()"
   ],
   "id": "a2d9b37022f7162"
  },
  {
   "metadata": {},
   "cell_type": "code",
   "outputs": [],
   "execution_count": null,
   "source": [
    "srplot = SRPlot( trainer, TSet.Test, fsize=8.0 )\n",
    "srplot.plot()"
   ],
   "id": "c6fa75772a811cfe"
  },
  {
   "metadata": {},
   "cell_type": "markdown",
   "source": "",
   "id": "7091a875a34975e4"
  }
 ],
 "metadata": {
  "kernelspec": {
   "display_name": "Python 3",
   "language": "python",
   "name": "python3"
  },
  "language_info": {
   "codemirror_mode": {
    "name": "ipython",
    "version": 2
   },
   "file_extension": ".py",
   "mimetype": "text/x-python",
   "name": "python",
   "nbconvert_exporter": "python",
   "pygments_lexer": "ipython2",
   "version": "2.7.6"
  }
 },
 "nbformat": 4,
 "nbformat_minor": 5
}
