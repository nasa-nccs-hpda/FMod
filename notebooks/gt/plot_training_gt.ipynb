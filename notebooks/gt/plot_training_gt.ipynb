{
 "cells": [
  {
   "cell_type": "code",
   "execution_count": 1,
   "id": "eb3354fa294bfe51",
   "metadata": {},
   "outputs": [],
   "source": [
    "%matplotlib widget\n",
    "from typing import Any, Dict, List, Tuple, Type, Optional, Union\n",
    "from fmod.controller.workflow import WorkflowController"
   ]
  },
  {
   "cell_type": "code",
   "execution_count": 2,
   "id": "e0fe5ee8cdf65d78",
   "metadata": {
    "jupyter": {
     "is_executing": true
    }
   },
   "outputs": [
    {
     "name": "stdout",
     "output_type": "stream",
     "text": [
      "load sres: config = {'task': 'swot', 'dataset': 'swot', 'platform': 'explore', 'model': 'rcan-10-20-64', 'pipeline.gpu': 1}\n",
      "Activating sres: '/panfs/ccds02/nobackup/people/gtamkin/dev/super-resolution-sst/tm/FMod/notebooks/config/sres.yaml', gpu=1, keys = ['platform', 'task', 'model', 'dataset', 'pipeline']\n",
      "torch.cuda.is_available(?): True\n",
      "<device>:<index>:<device.index> cuda:1:1:1\n",
      "<device>:<index>:<device.index> cuda:0:1:<built-in method index of str object at 0x151bc76bc5f0>\n"
     ]
    }
   ],
   "source": [
    "cname = \"sres\"\n",
    "model =  'rcan-10-20-64'\n",
    "ccustom: Dict[str,Any] = { 'pipeline.gpu': 1 }\n",
    "yscale = \"log\"\n",
    "\n",
    "configuration = dict(\n",
    "\ttask = \"swot\",\n",
    "\tdataset = \"swot\",\n",
    "\tplatform = \"explore\"\n",
    ")\n",
    "\n",
    "controller = WorkflowController( cname, configuration )\n",
    "controller.init_plotting( cname, model, **ccustom )"
   ]
  },
  {
   "cell_type": "code",
   "execution_count": 3,
   "id": "a2d9b37022f7162",
   "metadata": {},
   "outputs": [
    {
     "name": "stdout",
     "output_type": "stream",
     "text": [
      "ResultFileReader reading from file: /explore/nobackup/projects/ilab/data/SR/processed/swot_result_recs/swot_swot_rcan-10-20-64_losses.csv\n",
      " ** Loading training stats (2423 recs) from /explore/nobackup/projects/ilab/data/SR/processed/swot_result_recs/swot_swot_rcan-10-20-64_losses.csv\n",
      "get_plot_data(train): 2423 results\n",
      "get_plot_data(valid): 2423 results\n",
      "Plotting 193 Train points\n",
      "Plotting 2 Validation points\n"
     ]
    },
    {
     "data": {
      "application/vnd.jupyter.widget-view+json": {
       "model_id": "2b32d42763274940abb8485b7822ac93",
       "version_major": 2,
       "version_minor": 0
      },
      "text/plain": [
       "VBox(children=(Canvas(toolbar=Toolbar(toolitems=[('Home', 'Reset original view', 'home', 'home'), ('Back', 'Ba…"
      ]
     },
     "execution_count": 3,
     "metadata": {},
     "output_type": "execute_result"
    }
   ],
   "source": [
    "controller.get_training_view( fsize=8.00 )"
   ]
  },
  {
   "cell_type": "code",
   "execution_count": null,
   "id": "73f17444-47a7-43af-86bd-cbb56311f176",
   "metadata": {},
   "outputs": [],
   "source": []
  }
 ],
 "metadata": {
  "kernelspec": {
   "display_name": "Python [conda env:.conda-pytorch-dev-rapids-v23_10-v13]",
   "language": "python",
   "name": "conda-env-.conda-pytorch-dev-rapids-v23_10-v13-py"
  },
  "language_info": {
   "codemirror_mode": {
    "name": "ipython",
    "version": 3
   },
   "file_extension": ".py",
   "mimetype": "text/x-python",
   "name": "python",
   "nbconvert_exporter": "python",
   "pygments_lexer": "ipython3",
   "version": "3.11.9"
  }
 },
 "nbformat": 4,
 "nbformat_minor": 5
}
