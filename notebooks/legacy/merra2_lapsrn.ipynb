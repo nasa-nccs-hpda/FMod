{
 "cells": [
  {
   "attachments": {},
   "cell_type": "markdown",
   "metadata": {},
   "source": [
    "# LapSRN\n",
    "\n",
    "A simple notebook to test the LapSRN network operating on MERRA2 data\n"
   ]
  },
  {
   "attachments": {},
   "cell_type": "markdown",
   "metadata": {},
   "source": [
    "## Preparation"
   ]
  },
  {
   "cell_type": "code",
   "execution_count": 1,
   "metadata": {},
   "source": [
    "%matplotlib ipympl\n",
    "import torch, math\n",
    "from models.sres.legacy.lapsrn.network import LapSrnMS\n",
    "import xarray as xa\n",
    "import hydra\n",
    "from typing import Dict, List\n",
    "from fmod.plot.sres import mplplot, create_plot_data\n",
    "from fmod.base.util.config import configure, cfg, coerce_to_data_grid\n",
    "from fmod.pipeline.dual_trainer import ModelTrainer\n",
    "from fmod.pipeline.ncbatch import ncBatchDataset"
   ],
   "outputs": []
  },
  {
   "cell_type": "code",
   "execution_count": 2,
   "metadata": {},
   "source": [
    "hydra.initialize(version_base=None, config_path=\"../config\")\n",
    "configure('merra2-lapsrn-s1')\n",
    "# lgm().set_level( logging.DEBUG )\n",
    "\n",
    "load_state = \"\"\n",
    "save_state = True \n",
    "cfg().task['nepochs'] = 100\n",
    "\n",
    "device = torch.device('cuda:0' if torch.cuda.is_available() else 'cpu')\n",
    "if torch.cuda.is_available():\n",
    "    torch.cuda.set_device(device.index)"
   ],
   "outputs": []
  },
  {
   "attachments": {},
   "cell_type": "markdown",
   "metadata": {},
   "source": [
    "### Training data\n",
    "Prepare a Dataloader which computes results on the fly:"
   ]
  },
  {
   "metadata": {},
   "cell_type": "code",
   "execution_count": null,
   "source": "",
   "outputs": []
  },
  {
   "cell_type": "code",
   "execution_count": null,
   "metadata": {},
   "source": [
    "input_dataset   = ncBatchDataset( cfg().task, vres=\"low\",  load_inputs=True,  load_base=False, load_targets=False )\n",
    "sample_batch: xa.DataArray  = input_dataset.get_batch( input_dataset.train_dates[0] )['input']\n",
    "coerce_to_data_grid( sample_batch )\n",
    "target_dataset  = ncBatchDataset( cfg().task,  vres=\"high\", load_inputs=False, load_base=False, load_targets=True )"
   ],
   "outputs": []
  },
  {
   "metadata": {},
   "cell_type": "code",
   "execution_count": null,
   "source": [
    "trainer = ModelTrainer( input_dataset, target_dataset, device ) \n",
    "results = trainer.get_batch( input_dataset.train_dates[0], as_tensor=False  )\n",
    "sample_input: xa.DataArray = results['input']\n",
    "sample_target: xa.DataArray = results['target']\n",
    "print( f\"sample_input: shape={sample_input.shape}\")\n",
    "print( f\"sample_target: shape={sample_target.shape}\")"
   ],
   "outputs": []
  },
  {
   "metadata": {},
   "cell_type": "code",
   "execution_count": null,
   "source": [
    "\n",
    "scale_factors: List[int]    = cfg().model.upscale_factors\n",
    "scale: int = math.prod( scale_factors )\n",
    "nchannels: int = sample_input.shape[1]\n",
    "nfeatures: int = cfg().model.nfeatures\n",
    "rdepth: int = cfg().model.rdepth\n",
    "rlayers: int = cfg().model.rlayers"
   ],
   "outputs": []
  },
  {
   "metadata": {},
   "cell_type": "code",
   "execution_count": 6,
   "source": "model = LapSrnMS( nchannels, nfeatures, rdepth, rlayers, scale ).to(device)",
   "outputs": []
  },
  {
   "attachments": {},
   "cell_type": "markdown",
   "metadata": {},
   "source": [
    "## Training the model"
   ]
  },
  {
   "cell_type": "code",
   "source": "trainer.train( model, load_state=load_state, save_state=save_state )",
   "metadata": {},
   "execution_count": null,
   "outputs": []
  },
  {
   "metadata": {},
   "cell_type": "code",
   "execution_count": 10,
   "source": "inputs, targets, predictions = trainer.apply( date_index = 0 )",
   "outputs": []
  },
  {
   "cell_type": "code",
   "execution_count": null,
   "metadata": {
    "collapsed": false
   },
   "source": [
    "pdata:  Dict[str,xa.DataArray] = create_plot_data( inputs, targets, predictions, sample_input, sample_target )\n",
    "mplplot( pdata, fsize=8.0 )"
   ],
   "outputs": []
  },
  {
   "cell_type": "code",
   "source": [
    "# s = 0; ch = 0\n",
    "# print( f'Input shape: {inp.shape}, Output shape: {out.shape}, type = {type(inp)} ')\n",
    "# input_image = inp[s, ch]\n",
    "# vmin, vmax = gridops.color_range(input_image,2.0)\n",
    "# \n",
    "# fig = plt.figure()\n",
    "# im = gridops.plot_griddata(input_image, fig, projection='3d', title='input', vmin=vmin, vmax=vmax )\n",
    "# plt.colorbar(im)\n",
    "# plt.show()\n",
    "# \n",
    "# fig = plt.figure()\n",
    "# im = gridops.plot_griddata(out[s, ch], fig, projection='3d', title='prediction', vmin=vmin, vmax=vmax )\n",
    "# plt.colorbar(im)\n",
    "# plt.show()\n",
    "# \n",
    "# fig = plt.figure()\n",
    "# im = gridops.plot_griddata(tar[s, ch], fig, projection='3d', title='target', vmin=vmin, vmax=vmax )\n",
    "# plt.colorbar(im)\n",
    "# plt.show()\n",
    "# \n",
    "# fig = plt.figure()\n",
    "# im = gridops.plot_griddata((tar-out)[s, ch], fig, projection='3d', title='error', vmin=vmin, vmax=vmax )\n",
    "# plt.colorbar(im)\n",
    "# plt.show()"
   ],
   "metadata": {},
   "execution_count": 13,
   "outputs": []
  },
  {
   "cell_type": "code",
   "execution_count": null,
   "metadata": {},
   "source": [],
   "outputs": []
  }
 ],
 "metadata": {
  "kernelspec": {
   "display_name": "Python 3 (ipykernel)",
   "language": "python",
   "name": "python3"
  },
  "language_info": {
   "codemirror_mode": {
    "name": "ipython",
    "version": 3
   },
   "file_extension": ".py",
   "mimetype": "text/x-python",
   "name": "python",
   "nbconvert_exporter": "python",
   "pygments_lexer": "ipython3",
   "version": "3.10.12"
  },
  "orig_nbformat": 4,
  "vscode": {
   "interpreter": {
    "hash": "31f2aee4e71d21fbe5cf8b01ff0e069b9275f58929596ceb00d14d90e3e16cd6"
   }
  }
 },
 "nbformat": 4,
 "nbformat_minor": 2
}
