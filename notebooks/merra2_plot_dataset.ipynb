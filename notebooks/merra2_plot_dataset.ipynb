{
 "cells": [
  {
   "cell_type": "code",
   "execution_count": null,
   "id": "6cc19910a1b76d18",
   "metadata": {
    "collapsed": false
   },
   "outputs": [],
   "source": [
    "%matplotlib ipympl\n",
    "from fmod.base.plot.image import mplplot\n",
    "from fmod.base.source.merra2.model import load_const_dataset, load_merra2_norm_data, load_dataset\n",
    "import xarray as xa\n",
    "import hydra, dataclasses\n",
    "import logging, torch\n",
    "from typing import List, Union, Tuple, Optional, Dict, Type\n",
    "from fmod.base.util.logging import lgm, exception_handled, log_timing\n",
    "from fmod.base.util.ops import print_norms, vars3d\n",
    "from fmod.base.util.dates import date_list\n",
    "from fmod.base.util.config import configure, cfg, cfg_date, cfg2args, pp\n",
    "from fmod.pipeline.merra2 import MERRA2Dataset\n",
    "\n",
    "hydra.initialize(version_base=None, config_path=\"../config\")\n",
    "configure('merra2-sr')\n",
    "cfg().task.device = \"cpu\"\n",
    "lgm().set_level( logging.DEBUG )\n",
    "\n",
    "def nnan(varray: torch.Tensor) -> int: return torch.isnan(varray).sum().item()\n",
    "def pctnan(varray: torch.Tensor) -> str: return f\"{nnan(varray)*100.0/torch.numel(varray):.2f}%\"\n",
    "\n",
    "# set device\n",
    "device = torch.device('cuda:0' if torch.cuda.is_available() else 'cpu')\n",
    "if torch.cuda.is_available():\n",
    "    torch.cuda.set_device(device.index)"
   ]
  },
  {
   "cell_type": "code",
   "execution_count": null,
   "outputs": [],
   "source": [
    "dataset = MERRA2Dataset( train_dates=date_list( cfg_date('task'), cfg().task.max_steps ), vres=\"low\" )\n",
    "data_iter = iter(dataset)\n",
    "norm_data: Dict[str, xa.Dataset] = load_merra2_norm_data()\n",
    "\n",
    "for inp, tar in data_iter:\n",
    "\tprint(f\" ** inp shape={inp.shape}, pct-nan= {pctnan(inp)}\")\n",
    "\tprint(f\" ** tar shape={tar.shape}, pct-nan= {pctnan(tar)}\")\n",
    "\tpvars: List[str] =  vars3d(inp)\n",
    "\tmplplot( inp, pvars[:5], norms=norm_data )\n",
    "\tbreak"
   ],
   "metadata": {
    "collapsed": false
   },
   "id": "b1412f3f7cbcfa0d"
  },
  {
   "cell_type": "code",
   "execution_count": null,
   "outputs": [],
   "source": [
    "\n",
    "\n"
   ],
   "metadata": {
    "collapsed": true
   },
   "id": "initial_id"
  }
 ],
 "metadata": {
  "kernelspec": {
   "display_name": "Python 3",
   "language": "python",
   "name": "python3"
  },
  "language_info": {
   "codemirror_mode": {
    "name": "ipython",
    "version": 2
   },
   "file_extension": ".py",
   "mimetype": "text/x-python",
   "name": "python",
   "nbconvert_exporter": "python",
   "pygments_lexer": "ipython2",
   "version": "2.7.6"
  }
 },
 "nbformat": 4,
 "nbformat_minor": 5
}
