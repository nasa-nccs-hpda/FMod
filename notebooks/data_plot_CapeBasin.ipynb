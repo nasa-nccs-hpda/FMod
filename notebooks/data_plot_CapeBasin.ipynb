{
 "cells": [
  {
   "attachments": {},
   "cell_type": "markdown",
   "metadata": {},
   "source": [
    "# Cape Basin Super Resolution\n",
    "\n",
    "A simple notebook to test assorted SR models operating on the Cape Basin dataset\n",
    "\n",
    "## Preparation"
   ]
  },
  {
   "cell_type": "code",
   "execution_count": 1,
   "metadata": {},
   "outputs": [],
   "source": [
    "%matplotlib ipympl\n",
    "import torch\n",
    "import xarray as xa, numpy as np\n",
    "import hydra\n",
    "from datetime import datetime\n",
    "from typing import Dict, List\n",
    "from fmod.view.sres import mplplot, create_plot_data\n",
    "from fmod.base.util.config import fmconfig, cfg\n",
    "from fmod.base.plot.data import DataPlot\n",
    "from fmod.data.batch import BatchDataset"
   ]
  },
  {
   "cell_type": "code",
   "execution_count": 2,
   "metadata": {},
   "outputs": [],
   "source": [
    "hydra.initialize(version_base=None, config_path=\"../config\")\n",
    "\n",
    "task=\"sres\"\n",
    "model=\"unet\"\n",
    "dataset=\"LLC4320\"\n",
    "scenario=\"s1\"\n",
    "fmconfig( task, model, dataset, scenario )\n",
    "# lgm().set_level( logging.DEBUG )\n",
    "\n",
    "load_state  = \"current\"\n",
    "save_state  = True \n",
    "cfg().task['nepochs'] = 1\n",
    "\n",
    "device = torch.device('cuda:0' if torch.cuda.is_available() else 'cpu')\n",
    "if torch.cuda.is_available():\n",
    "    torch.cuda.set_device(device.index)\n",
    "    \n",
    "print( cfg().model.name )"
   ]
  },
  {
   "attachments": {},
   "cell_type": "markdown",
   "metadata": {},
   "source": [
    "### Training data\n",
    "Prepare a Dataloader which computes results on the fly:"
   ]
  },
  {
   "cell_type": "code",
   "execution_count": null,
   "metadata": {},
   "outputs": [],
   "source": [
    "input_dataset:  BatchDataset  = BatchDataset( cfg().task, vres=\"low\", )\n",
    "target_dataset: BatchDataset  = BatchDataset( cfg().task, vres=\"high\" )"
   ]
  },
  {
   "metadata": {},
   "cell_type": "code",
   "outputs": [],
   "execution_count": 6,
   "source": [
    "data_plot = DataPlot( input_dataset, target_dataset, ix=1, iy=1 )\n",
    "data_plot.plot()"
   ]
  }
 ],
 "metadata": {
  "kernelspec": {
   "display_name": "Python 3 (ipykernel)",
   "language": "python",
   "name": "python3"
  },
  "language_info": {
   "codemirror_mode": {
    "name": "ipython",
    "version": 3
   },
   "file_extension": ".py",
   "mimetype": "text/x-python",
   "name": "python",
   "nbconvert_exporter": "python",
   "pygments_lexer": "ipython3",
   "version": "3.10.12"
  },
  "orig_nbformat": 4,
  "vscode": {
   "interpreter": {
    "hash": "31f2aee4e71d21fbe5cf8b01ff0e069b9275f58929596ceb00d14d90e3e16cd6"
   }
  }
 },
 "nbformat": 4,
 "nbformat_minor": 2
}
