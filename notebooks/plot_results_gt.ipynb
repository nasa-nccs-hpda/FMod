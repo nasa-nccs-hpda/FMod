{
 "cells": [
  {
   "cell_type": "code",
   "execution_count": 1,
   "id": "eb3354fa294bfe51",
   "metadata": {
    "tags": []
   },
   "outputs": [],
   "source": [
    "%matplotlib widget\n",
    "from typing import Any, Dict, List, Tuple, Type, Optional, Union\n",
    "from fmod.controller.workflow import WorkflowController\n",
    "from fmod.base.io.loader import ncFormat, TSet"
   ]
  },
  {
   "cell_type": "code",
   "execution_count": 2,
   "id": "e0fe5ee8cdf65d78",
   "metadata": {
    "jupyter": {
     "is_executing": true
    }
   },
   "outputs": [
    {
     "name": "stdout",
     "output_type": "stream",
     "text": [
      "load sres: config = {'task': 'swot', 'dataset': 'swot', 'platform': 'explore_gt', 'model': 'rcan-10-20-64', 'pipeline.gpu': 1}\n",
      "Activating sres: '/panfs/ccds02/nobackup/people/gtamkin/dev/super-resolution-sst/tm/FMod/notebooks/config/sres.yaml', gpu=1, keys = ['platform', 'task', 'model', 'dataset', 'pipeline']\n",
      "torch.cuda.is_available(?): True\n",
      "<device>:<index>:<device.index> cuda:1:1:1\n",
      "<device>:<index>:<device.index> cuda:0:1:<built-in method index of str object at 0x14e027bbf9f0>\n"
     ]
    }
   ],
   "source": [
    "cname = \"sres\"\n",
    "model =  'rcan-10-20-64'\n",
    "ccustom: Dict[str,Any] = { 'pipeline.gpu': 1 }\n",
    "\n",
    "configuration = dict(\n",
    "\ttask = \"swot\",\n",
    "\tdataset = \"swot\",\n",
    "\tplatform = \"explore_gt\"\n",
    ")\n",
    "\n",
    "controller = WorkflowController( cname, configuration )\n",
    "controller.init_plotting( cname, model, **ccustom )"
   ]
  },
  {
   "cell_type": "code",
   "execution_count": 3,
   "id": "a2d9b37022f7162",
   "metadata": {},
   "outputs": [
    {
     "name": "stdout",
     "output_type": "stream",
     "text": [
      "No checkpoint file found at '/explore/nobackup/people/gtamkin/dev/super-resolution-sst/ilab/data/SR/results/checkpoints/rcan-10-20-64-swot-swot.valid.pt': starting from scratch.\n",
      " ------ Saving checkpoints to '/explore/nobackup/people/gtamkin/dev/super-resolution-sst/ilab/data/SR/results/checkpoints/rcan-10-20-64-swot-swot.valid.pt' ------ \n",
      "\n",
      "  --------- Opening log file:  '/explore/nobackup/people/gtamkin/dev/super-resolution-sst/ilab/data/SR/cache/logs/rcan-swot-swot.log' ---------  \n",
      "\n",
      "init_data_timestamps: 486 times\n",
      "Batch times[train]: 461\n",
      "Batch times[valid]: 12\n",
      "Batch times[test]: 12\n",
      " *** load_file: var_template(242611200,) var_data(140637966,) mask nz=140637966, file=/explore/nobackup/projects/ilab/data/swot/super_resolution/raw/SST/SST.0001419840.shrunk\n"
     ]
    },
    {
     "ename": "RuntimeError",
     "evalue": "CUDA error: invalid device ordinal\nCUDA kernel errors might be asynchronously reported at some other API call, so the stacktrace below might be incorrect.\nFor debugging consider passing CUDA_LAUNCH_BLOCKING=1\nCompile with `TORCH_USE_CUDA_DSA` to enable device-side assertions.\n",
     "output_type": "error",
     "traceback": [
      "\u001b[0;31m---------------------------------------------------------------------------\u001b[0m",
      "\u001b[0;31mRuntimeError\u001b[0m                              Traceback (most recent call last)",
      "Cell \u001b[0;32mIn[3], line 1\u001b[0m\n\u001b[0;32m----> 1\u001b[0m \u001b[43mcontroller\u001b[49m\u001b[38;5;241;43m.\u001b[39;49m\u001b[43mget_result_view\u001b[49m\u001b[43m(\u001b[49m\u001b[43m \u001b[49m\u001b[43mTSet\u001b[49m\u001b[38;5;241;43m.\u001b[39;49m\u001b[43mValidation\u001b[49m\u001b[43m,\u001b[49m\u001b[43m \u001b[49m\u001b[43mfsize\u001b[49m\u001b[38;5;241;43m=\u001b[39;49m\u001b[38;5;241;43m8.0\u001b[39;49m\u001b[43m \u001b[49m\u001b[43m)\u001b[49m\n",
      "File \u001b[0;32m/panfs/ccds02/nobackup/people/gtamkin/dev/super-resolution-sst/tm/FMod/notebooks/fmod/controller/workflow.py:44\u001b[0m, in \u001b[0;36mWorkflowController.get_result_view\u001b[0;34m(self, tset, **kwargs)\u001b[0m\n\u001b[1;32m     43\u001b[0m \u001b[38;5;28;01mdef\u001b[39;00m \u001b[38;5;21mget_result_view\u001b[39m(\u001b[38;5;28mself\u001b[39m, tset: TSet, \u001b[38;5;241m*\u001b[39m\u001b[38;5;241m*\u001b[39mkwargs ):\n\u001b[0;32m---> 44\u001b[0m \t\u001b[38;5;28mself\u001b[39m\u001b[38;5;241m.\u001b[39mplot \u001b[38;5;241m=\u001b[39m \u001b[43mResultPlot\u001b[49m\u001b[43m(\u001b[49m\u001b[38;5;28;43mself\u001b[39;49m\u001b[38;5;241;43m.\u001b[39;49m\u001b[43mtrainer\u001b[49m\u001b[43m,\u001b[49m\u001b[43m \u001b[49m\u001b[43mtset\u001b[49m\u001b[43m,\u001b[49m\u001b[43m \u001b[49m\u001b[38;5;241;43m*\u001b[39;49m\u001b[38;5;241;43m*\u001b[39;49m\u001b[43mkwargs\u001b[49m\u001b[43m)\u001b[49m\n\u001b[1;32m     45\u001b[0m \t\u001b[38;5;28;01mreturn\u001b[39;00m \u001b[38;5;28mself\u001b[39m\u001b[38;5;241m.\u001b[39mplot\u001b[38;5;241m.\u001b[39mplot()\n",
      "File \u001b[0;32m/panfs/ccds02/nobackup/people/gtamkin/dev/super-resolution-sst/tm/FMod/notebooks/fmod/view/plot/results.py:56\u001b[0m, in \u001b[0;36mResultPlot.__init__\u001b[0;34m(self, trainer, tset, **kwargs)\u001b[0m\n\u001b[1;32m     54\u001b[0m \u001b[38;5;28mself\u001b[39m\u001b[38;5;241m.\u001b[39mtime_index: \u001b[38;5;28mint\u001b[39m \u001b[38;5;241m=\u001b[39m kwargs\u001b[38;5;241m.\u001b[39mget( \u001b[38;5;124m'\u001b[39m\u001b[38;5;124mtime_id\u001b[39m\u001b[38;5;124m'\u001b[39m, \u001b[38;5;241m0\u001b[39m )\n\u001b[1;32m     55\u001b[0m \u001b[38;5;28mself\u001b[39m\u001b[38;5;241m.\u001b[39mtile_index: \u001b[38;5;28mint\u001b[39m \u001b[38;5;241m=\u001b[39m kwargs\u001b[38;5;241m.\u001b[39mget( \u001b[38;5;124m'\u001b[39m\u001b[38;5;124mtile_id\u001b[39m\u001b[38;5;124m'\u001b[39m, \u001b[38;5;241m0\u001b[39m )\n\u001b[0;32m---> 56\u001b[0m \u001b[38;5;28mself\u001b[39m\u001b[38;5;241m.\u001b[39mlosses: Dict[\u001b[38;5;28mstr\u001b[39m,\u001b[38;5;28mfloat\u001b[39m] \u001b[38;5;241m=\u001b[39m \u001b[38;5;28;43mself\u001b[39;49m\u001b[38;5;241;43m.\u001b[39;49m\u001b[43mtrainer\u001b[49m\u001b[38;5;241;43m.\u001b[39;49m\u001b[43mevaluate\u001b[49m\u001b[43m(\u001b[49m\u001b[38;5;28;43mself\u001b[39;49m\u001b[38;5;241;43m.\u001b[39;49m\u001b[43mtset\u001b[49m\u001b[43m,\u001b[49m\u001b[43m \u001b[49m\u001b[43mtile_index\u001b[49m\u001b[38;5;241;43m=\u001b[39;49m\u001b[38;5;28;43mself\u001b[39;49m\u001b[38;5;241;43m.\u001b[39;49m\u001b[43mtile_index\u001b[49m\u001b[43m,\u001b[49m\u001b[43m \u001b[49m\u001b[43mtime_index\u001b[49m\u001b[38;5;241;43m=\u001b[39;49m\u001b[38;5;28;43mself\u001b[39;49m\u001b[38;5;241;43m.\u001b[39;49m\u001b[43mtime_index\u001b[49m\u001b[43m,\u001b[49m\u001b[43m \u001b[49m\u001b[43minterp_loss\u001b[49m\u001b[38;5;241;43m=\u001b[39;49m\u001b[38;5;28;43;01mTrue\u001b[39;49;00m\u001b[43m,\u001b[49m\u001b[43m \u001b[49m\u001b[38;5;241;43m*\u001b[39;49m\u001b[38;5;241;43m*\u001b[39;49m\u001b[43mkwargs\u001b[49m\u001b[43m)\u001b[49m\n\u001b[1;32m     57\u001b[0m \u001b[38;5;28mself\u001b[39m\u001b[38;5;241m.\u001b[39mtile_grid: TileSelectionGrid \u001b[38;5;241m=\u001b[39m TileSelectionGrid(trainer\u001b[38;5;241m.\u001b[39mget_sample_target())\n\u001b[1;32m     58\u001b[0m \u001b[38;5;28mself\u001b[39m\u001b[38;5;241m.\u001b[39mtile_grid\u001b[38;5;241m.\u001b[39mcreate_tile_recs(\u001b[38;5;241m*\u001b[39m\u001b[38;5;241m*\u001b[39mkwargs)\n",
      "File \u001b[0;32m/panfs/ccds02/nobackup/people/gtamkin/dev/super-resolution-sst/tm/FMod/notebooks/fmod/controller/dual_trainer.py:356\u001b[0m, in \u001b[0;36mModelTrainer.evaluate\u001b[0;34m(self, tset, **kwargs)\u001b[0m\n\u001b[1;32m    354\u001b[0m batch_data: Optional[xa\u001b[38;5;241m.\u001b[39mDataArray] \u001b[38;5;241m=\u001b[39m \u001b[38;5;28mself\u001b[39m\u001b[38;5;241m.\u001b[39mget_srbatch(ctile, ctime)\n\u001b[1;32m    355\u001b[0m \u001b[38;5;28;01mif\u001b[39;00m batch_data \u001b[38;5;129;01mis\u001b[39;00m \u001b[38;5;28;01mNone\u001b[39;00m: \u001b[38;5;28;01mbreak\u001b[39;00m\n\u001b[0;32m--> 356\u001b[0m binput, boutput, btarget \u001b[38;5;241m=\u001b[39m \u001b[38;5;28;43mself\u001b[39;49m\u001b[38;5;241;43m.\u001b[39;49m\u001b[43mapply_network\u001b[49m\u001b[43m(\u001b[49m\u001b[43m \u001b[49m\u001b[43mbatch_data\u001b[49m\u001b[43m \u001b[49m\u001b[43m)\u001b[49m\n\u001b[1;32m    357\u001b[0m lgm()\u001b[38;5;241m.\u001b[39mlog(\u001b[38;5;124mf\u001b[39m\u001b[38;5;124m\"\u001b[39m\u001b[38;5;124m  ->apply_network: inp\u001b[39m\u001b[38;5;132;01m{\u001b[39;00mts(binput)\u001b[38;5;132;01m}\u001b[39;00m\u001b[38;5;124m target\u001b[39m\u001b[38;5;132;01m{\u001b[39;00mts(btarget)\u001b[38;5;132;01m}\u001b[39;00m\u001b[38;5;124m prd\u001b[39m\u001b[38;5;132;01m{\u001b[39;00mts(boutput)\u001b[38;5;132;01m}\u001b[39;00m\u001b[38;5;124m\"\u001b[39m )\n\u001b[1;32m    358\u001b[0m [model_sloss, model_multilevel_loss] \u001b[38;5;241m=\u001b[39m \u001b[38;5;28mself\u001b[39m\u001b[38;5;241m.\u001b[39mloss(boutput, btarget)\n",
      "File \u001b[0;32m/panfs/ccds02/nobackup/people/gtamkin/dev/super-resolution-sst/tm/FMod/notebooks/fmod/controller/dual_trainer.py:387\u001b[0m, in \u001b[0;36mModelTrainer.apply_network\u001b[0;34m(self, target_data)\u001b[0m\n\u001b[1;32m    385\u001b[0m \u001b[38;5;28;01mdef\u001b[39;00m \u001b[38;5;21mapply_network\u001b[39m(\u001b[38;5;28mself\u001b[39m, target_data: xa\u001b[38;5;241m.\u001b[39mDataArray ) \u001b[38;5;241m-\u001b[39m\u001b[38;5;241m>\u001b[39m Tuple[Tensor,TensorOrTensors,Tensor]:\n\u001b[1;32m    386\u001b[0m \ttarget_channels \u001b[38;5;241m=\u001b[39m cfg()\u001b[38;5;241m.\u001b[39mtask\u001b[38;5;241m.\u001b[39mtarget_variables\n\u001b[0;32m--> 387\u001b[0m \tbtarget: Tensor \u001b[38;5;241m=\u001b[39m \u001b[43marray2tensor\u001b[49m\u001b[43m(\u001b[49m\u001b[43m \u001b[49m\u001b[43mtarget_data\u001b[49m\u001b[38;5;241;43m.\u001b[39;49m\u001b[43msel\u001b[49m\u001b[43m(\u001b[49m\u001b[43mchannels\u001b[49m\u001b[38;5;241;43m=\u001b[39;49m\u001b[43mtarget_channels\u001b[49m\u001b[43m)\u001b[49m\u001b[43m \u001b[49m\u001b[43m)\u001b[49m\n\u001b[1;32m    388\u001b[0m \tbinput \u001b[38;5;241m=\u001b[39m downsample(target_data)\n\u001b[1;32m    389\u001b[0m \tproduct: TensorOrTensors \u001b[38;5;241m=\u001b[39m \u001b[38;5;28mself\u001b[39m\u001b[38;5;241m.\u001b[39mmodel( binput )\n",
      "File \u001b[0;32m/panfs/ccds02/nobackup/people/gtamkin/dev/super-resolution-sst/tm/FMod/notebooks/fmod/base/util/array.py:71\u001b[0m, in \u001b[0;36marray2tensor\u001b[0;34m(darray)\u001b[0m\n\u001b[1;32m     69\u001b[0m \u001b[38;5;28;01mdef\u001b[39;00m \u001b[38;5;21marray2tensor\u001b[39m( darray: xa\u001b[38;5;241m.\u001b[39mDataArray ) \u001b[38;5;241m-\u001b[39m\u001b[38;5;241m>\u001b[39m Tensor:\n\u001b[1;32m     70\u001b[0m     array_data: np\u001b[38;5;241m.\u001b[39mndarray \u001b[38;5;241m=\u001b[39m np\u001b[38;5;241m.\u001b[39mravel(darray\u001b[38;5;241m.\u001b[39mvalues)\u001b[38;5;241m.\u001b[39mreshape( darray\u001b[38;5;241m.\u001b[39mshape )\n\u001b[0;32m---> 71\u001b[0m     \u001b[38;5;28;01mreturn\u001b[39;00m \u001b[43mtorch\u001b[49m\u001b[38;5;241;43m.\u001b[39;49m\u001b[43mtensor\u001b[49m\u001b[43m(\u001b[49m\u001b[43m \u001b[49m\u001b[43marray_data\u001b[49m\u001b[43m,\u001b[49m\u001b[43m \u001b[49m\u001b[43mdevice\u001b[49m\u001b[38;5;241;43m=\u001b[39;49m\u001b[43mget_device\u001b[49m\u001b[43m(\u001b[49m\u001b[43m)\u001b[49m\u001b[43m,\u001b[49m\u001b[43m \u001b[49m\u001b[43mrequires_grad\u001b[49m\u001b[38;5;241;43m=\u001b[39;49m\u001b[38;5;28;43;01mTrue\u001b[39;49;00m\u001b[43m,\u001b[49m\u001b[43m \u001b[49m\u001b[43mdtype\u001b[49m\u001b[38;5;241;43m=\u001b[39;49m\u001b[43mtorch\u001b[49m\u001b[38;5;241;43m.\u001b[39;49m\u001b[43mfloat32\u001b[49m\u001b[43m \u001b[49m\u001b[43m)\u001b[49m\n",
      "\u001b[0;31mRuntimeError\u001b[0m: CUDA error: invalid device ordinal\nCUDA kernel errors might be asynchronously reported at some other API call, so the stacktrace below might be incorrect.\nFor debugging consider passing CUDA_LAUNCH_BLOCKING=1\nCompile with `TORCH_USE_CUDA_DSA` to enable device-side assertions.\n"
     ]
    }
   ],
   "source": [
    "controller.get_result_view( TSet.Validation, fsize=8.0 )"
   ]
  },
  {
   "cell_type": "code",
   "execution_count": null,
   "id": "c6fa75772a811cfe",
   "metadata": {},
   "outputs": [],
   "source": []
  },
  {
   "cell_type": "markdown",
   "id": "7091a875a34975e4",
   "metadata": {},
   "source": []
  }
 ],
 "metadata": {
  "kernelspec": {
   "display_name": "Python [conda env:.conda-pytorch-dev-rapids-v23_10-v13]",
   "language": "python",
   "name": "conda-env-.conda-pytorch-dev-rapids-v23_10-v13-py"
  },
  "language_info": {
   "codemirror_mode": {
    "name": "ipython",
    "version": 3
   },
   "file_extension": ".py",
   "mimetype": "text/x-python",
   "name": "python",
   "nbconvert_exporter": "python",
   "pygments_lexer": "ipython3",
   "version": "3.11.9"
  }
 },
 "nbformat": 4,
 "nbformat_minor": 5
}
