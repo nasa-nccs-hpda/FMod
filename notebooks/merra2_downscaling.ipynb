{
 "cells": [
  {
   "cell_type": "code",
   "execution_count": null,
   "id": "initial_id",
   "metadata": {
    "collapsed": true
   },
   "outputs": [],
   "source": [
    "%matplotlib ipympl\n",
    "import torch\n",
    "import hydra, os, time\n",
    "from typing import Any, Dict, List, Tuple, Type, Optional, Union, Sequence, Mapping\n",
    "from fmod.base.util.dates import date_list\n",
    "from fmod.pipeline.downscale import Downscaler\n",
    "from fmod.base.util.config import configure, cfg, cfg_date, cfg2args, pp\n",
    "import xarray as xa\n",
    "from fmod.pipeline.rescale import DataLoader\n",
    "from datetime import date\n",
    "from fmod.plot.multiscale import mplplot"
   ]
  },
  {
   "cell_type": "code",
   "outputs": [],
   "source": [
    "hydra.initialize(version_base=None, config_path=\"../config\")\n",
    "configure('merra2-sr')\n",
    "reference_date = date(1990, 6, 1)\n",
    "\n",
    "device = torch.device('cuda:0' if torch.cuda.is_available() else 'cpu')\n",
    "if torch.cuda.is_available():\n",
    "    torch.cuda.set_device(device.index)"
   ],
   "metadata": {
    "collapsed": false
   },
   "id": "c24591c235776a36"
  },
  {
   "cell_type": "code",
   "outputs": [],
   "source": [
    "data_loader = DataLoader()\n",
    "lowres: xa.DataArray  = data_loader.get_channel_array( \"low\",  reference_date, interp_nan=True )\n",
    "highres: xa.DataArray = data_loader.get_channel_array( \"high\", reference_date, interp_nan=True )"
   ],
   "metadata": {
    "collapsed": false
   },
   "id": "5cf684d3187efb9e"
  },
  {
   "cell_type": "code",
   "outputs": [],
   "source": [
    "downscaler = Downscaler(model=\"sfno\")\n",
    "results: Dict[str,xa.DataArray] = downscaler.process( lowres, highres )\n",
    "mplplot( results, fsize=4.0 )"
   ],
   "metadata": {
    "collapsed": false
   },
   "id": "32e3e10d51bfe915"
  },
  {
   "cell_type": "code",
   "outputs": [],
   "source": [
    "downscaler = Downscaler()\n",
    "results: Dict[str,xa.DataArray] = downscaler.process( lowres, highres )\n",
    "mplplot( results, fsize=4.0 )"
   ],
   "metadata": {
    "collapsed": false
   },
   "id": "ee95a400d07e03de"
  }
 ],
 "metadata": {
  "kernelspec": {
   "display_name": "Python 3",
   "language": "python",
   "name": "python3"
  },
  "language_info": {
   "codemirror_mode": {
    "name": "ipython",
    "version": 2
   },
   "file_extension": ".py",
   "mimetype": "text/x-python",
   "name": "python",
   "nbconvert_exporter": "python",
   "pygments_lexer": "ipython2",
   "version": "2.7.6"
  }
 },
 "nbformat": 4,
 "nbformat_minor": 5
}
